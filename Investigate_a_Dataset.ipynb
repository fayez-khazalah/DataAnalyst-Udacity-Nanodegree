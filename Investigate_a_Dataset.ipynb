{
 "cells": [
  {
   "cell_type": "markdown",
   "metadata": {},
   "source": [
    "\n",
    "# Project: Gapminder Data Analysis\n",
    "\n",
    "## Table of Contents\n",
    "<ul>\n",
    "<li><a href=\"#intro\">Introduction</a></li>\n",
    "<li><a href=\"#wrangling\">Data Wrangling</a></li>\n",
    "<li><a href=\"#eda\">Exploratory Data Analysis</a></li>\n",
    "<li><a href=\"#conclusions\">Conclusions</a></li>\n",
    "<li><a href=\"#references\">References</a></li>\n",
    "</ul>"
   ]
  },
  {
   "cell_type": "markdown",
   "metadata": {},
   "source": [
    "<a id='intro'></a>\n",
    "## Introduction\n",
    "\n",
    "\n",
    "In this project, we will be analizing some data indicators from the <a href=\"https://www.gapminder.org/data/\">gapminder</a> website. We have chosen four indicators: *Life expectancy*, *Income*, *Child mortality*, and *Child fertility*. In the following list, we provide a biref description for each of these four indicators.\n",
    "\n",
    "<ul>\n",
    "    <li><strong>Life expectancy:</strong> <em>The average number of years a newborn child would live if current mortality patterns were to stay the same.</em></li>\n",
    "    <li><strong>Income:</strong> <em>Gross domestic product per person adjusted for differences in purchasing power (in international dollars, fixed 2011 prices, PPP based on 2011 ICP).</em></li>\n",
    "    <li><strong>Child mortality:</strong> <em>Death of children under five years of age per 1,000 live births.</em></li>\n",
    "    <li><strong>Child fertility:</strong> <em>Babies per woman (total fertility).</em></li>\n",
    "</ul>\n",
    "\n",
    "In particular, we will be interested in finding trends over the globe with respect to the above four indicators. Our study covers the period from **1950** to **2019** (the last 70 years). Our independent variables are Income, Child mortality, and Child fertility. And our dependent variable is Life expectancy.\n",
    "\n",
    "This study have tried to answer the following questions.\n",
    "\n",
    "<ul>\n",
    "    <li>Does the life expectancy average for the different regions depend on income, child mortality, or child fertility?</li>\n",
    "    <li>Have certain regions of the world been growing relatively better than others with respect to the Life expectancy and the other three independent variables?</li>\n",
    "</ul>"
   ]
  },
  {
   "cell_type": "code",
   "execution_count": 1,
   "metadata": {},
   "outputs": [],
   "source": [
    "# import statements for all of the packages that are used\n",
    "\n",
    "import numpy as np\n",
    "import pandas as pd\n",
    "import matplotlib.pyplot as plt\n",
    "import seaborn as sns\n",
    "from functools import reduce\n",
    "from mpl_toolkits.mplot3d import  Axes3D\n",
    "\n",
    "% matplotlib inline"
   ]
  },
  {
   "cell_type": "markdown",
   "metadata": {},
   "source": [
    "<a id='wrangling'></a>\n",
    "## Data Wrangling\n",
    "\n",
    "\n",
    "### General Properties"
   ]
  },
  {
   "cell_type": "markdown",
   "metadata": {},
   "source": [
    "The data that we are going to use in this study are already available in the **gapminder_data** subfolder in our workspace. In the next few steps, we will load our data into dataframes and show some rows of each dataframe."
   ]
  },
  {
   "cell_type": "code",
   "execution_count": 2,
   "metadata": {},
   "outputs": [
    {
     "name": "stdout",
     "output_type": "stream",
     "text": [
      "gapminder_data\tInvestigate_a_Dataset.ipynb\r\n"
     ]
    }
   ],
   "source": [
    "! ls"
   ]
  },
  {
   "cell_type": "code",
   "execution_count": 3,
   "metadata": {},
   "outputs": [
    {
     "name": "stdout",
     "output_type": "stream",
     "text": [
      "child_mortality_0_5_year_olds_dying_per_1000_born.csv\r\n",
      "children_per_woman_total_fertility.csv\r\n",
      "income_per_person_gdppercapita_ppp_inflation_adjusted.csv\r\n",
      "life_expectancy_years.csv\r\n",
      "region_data.csv\r\n"
     ]
    }
   ],
   "source": [
    "! ls gapminder_data"
   ]
  },
  {
   "cell_type": "code",
   "execution_count": 4,
   "metadata": {},
   "outputs": [
    {
     "data": {
      "text/html": [
       "<div>\n",
       "<style scoped>\n",
       "    .dataframe tbody tr th:only-of-type {\n",
       "        vertical-align: middle;\n",
       "    }\n",
       "\n",
       "    .dataframe tbody tr th {\n",
       "        vertical-align: top;\n",
       "    }\n",
       "\n",
       "    .dataframe thead th {\n",
       "        text-align: right;\n",
       "    }\n",
       "</style>\n",
       "<table border=\"1\" class=\"dataframe\">\n",
       "  <thead>\n",
       "    <tr style=\"text-align: right;\">\n",
       "      <th></th>\n",
       "      <th>country</th>\n",
       "      <th>1800</th>\n",
       "      <th>1801</th>\n",
       "      <th>1802</th>\n",
       "      <th>1803</th>\n",
       "      <th>1804</th>\n",
       "      <th>1805</th>\n",
       "      <th>1806</th>\n",
       "      <th>1807</th>\n",
       "      <th>1808</th>\n",
       "      <th>...</th>\n",
       "      <th>2091</th>\n",
       "      <th>2092</th>\n",
       "      <th>2093</th>\n",
       "      <th>2094</th>\n",
       "      <th>2095</th>\n",
       "      <th>2096</th>\n",
       "      <th>2097</th>\n",
       "      <th>2098</th>\n",
       "      <th>2099</th>\n",
       "      <th>2100</th>\n",
       "    </tr>\n",
       "  </thead>\n",
       "  <tbody>\n",
       "    <tr>\n",
       "      <th>0</th>\n",
       "      <td>Afghanistan</td>\n",
       "      <td>469.0</td>\n",
       "      <td>469.0</td>\n",
       "      <td>469.0</td>\n",
       "      <td>469.0</td>\n",
       "      <td>469.0</td>\n",
       "      <td>469.0</td>\n",
       "      <td>470.0</td>\n",
       "      <td>470.0</td>\n",
       "      <td>470.0</td>\n",
       "      <td>...</td>\n",
       "      <td>12.60</td>\n",
       "      <td>12.40</td>\n",
       "      <td>12.20</td>\n",
       "      <td>12.00</td>\n",
       "      <td>11.80</td>\n",
       "      <td>11.60</td>\n",
       "      <td>11.50</td>\n",
       "      <td>11.30</td>\n",
       "      <td>11.10</td>\n",
       "      <td>11.10</td>\n",
       "    </tr>\n",
       "    <tr>\n",
       "      <th>1</th>\n",
       "      <td>Albania</td>\n",
       "      <td>375.0</td>\n",
       "      <td>375.0</td>\n",
       "      <td>375.0</td>\n",
       "      <td>375.0</td>\n",
       "      <td>375.0</td>\n",
       "      <td>375.0</td>\n",
       "      <td>375.0</td>\n",
       "      <td>375.0</td>\n",
       "      <td>375.0</td>\n",
       "      <td>...</td>\n",
       "      <td>2.32</td>\n",
       "      <td>2.30</td>\n",
       "      <td>2.27</td>\n",
       "      <td>2.24</td>\n",
       "      <td>2.22</td>\n",
       "      <td>2.19</td>\n",
       "      <td>2.16</td>\n",
       "      <td>2.14</td>\n",
       "      <td>2.11</td>\n",
       "      <td>2.11</td>\n",
       "    </tr>\n",
       "    <tr>\n",
       "      <th>2</th>\n",
       "      <td>Algeria</td>\n",
       "      <td>460.0</td>\n",
       "      <td>460.0</td>\n",
       "      <td>460.0</td>\n",
       "      <td>460.0</td>\n",
       "      <td>460.0</td>\n",
       "      <td>460.0</td>\n",
       "      <td>460.0</td>\n",
       "      <td>460.0</td>\n",
       "      <td>460.0</td>\n",
       "      <td>...</td>\n",
       "      <td>4.28</td>\n",
       "      <td>4.20</td>\n",
       "      <td>4.14</td>\n",
       "      <td>4.07</td>\n",
       "      <td>4.00</td>\n",
       "      <td>3.94</td>\n",
       "      <td>3.88</td>\n",
       "      <td>3.82</td>\n",
       "      <td>3.76</td>\n",
       "      <td>3.76</td>\n",
       "    </tr>\n",
       "    <tr>\n",
       "      <th>3</th>\n",
       "      <td>Andorra</td>\n",
       "      <td>NaN</td>\n",
       "      <td>NaN</td>\n",
       "      <td>NaN</td>\n",
       "      <td>NaN</td>\n",
       "      <td>NaN</td>\n",
       "      <td>NaN</td>\n",
       "      <td>NaN</td>\n",
       "      <td>NaN</td>\n",
       "      <td>NaN</td>\n",
       "      <td>...</td>\n",
       "      <td>0.86</td>\n",
       "      <td>0.84</td>\n",
       "      <td>0.83</td>\n",
       "      <td>0.81</td>\n",
       "      <td>0.80</td>\n",
       "      <td>0.79</td>\n",
       "      <td>0.78</td>\n",
       "      <td>0.77</td>\n",
       "      <td>0.76</td>\n",
       "      <td>0.76</td>\n",
       "    </tr>\n",
       "    <tr>\n",
       "      <th>4</th>\n",
       "      <td>Angola</td>\n",
       "      <td>486.0</td>\n",
       "      <td>486.0</td>\n",
       "      <td>486.0</td>\n",
       "      <td>486.0</td>\n",
       "      <td>486.0</td>\n",
       "      <td>486.0</td>\n",
       "      <td>486.0</td>\n",
       "      <td>486.0</td>\n",
       "      <td>486.0</td>\n",
       "      <td>...</td>\n",
       "      <td>17.70</td>\n",
       "      <td>17.50</td>\n",
       "      <td>17.30</td>\n",
       "      <td>17.10</td>\n",
       "      <td>17.00</td>\n",
       "      <td>16.80</td>\n",
       "      <td>16.60</td>\n",
       "      <td>16.40</td>\n",
       "      <td>16.30</td>\n",
       "      <td>16.30</td>\n",
       "    </tr>\n",
       "  </tbody>\n",
       "</table>\n",
       "<p>5 rows × 302 columns</p>\n",
       "</div>"
      ],
      "text/plain": [
       "       country   1800   1801   1802   1803   1804   1805   1806   1807   1808  \\\n",
       "0  Afghanistan  469.0  469.0  469.0  469.0  469.0  469.0  470.0  470.0  470.0   \n",
       "1      Albania  375.0  375.0  375.0  375.0  375.0  375.0  375.0  375.0  375.0   \n",
       "2      Algeria  460.0  460.0  460.0  460.0  460.0  460.0  460.0  460.0  460.0   \n",
       "3      Andorra    NaN    NaN    NaN    NaN    NaN    NaN    NaN    NaN    NaN   \n",
       "4       Angola  486.0  486.0  486.0  486.0  486.0  486.0  486.0  486.0  486.0   \n",
       "\n",
       "   ...     2091   2092   2093   2094   2095   2096   2097   2098   2099   2100  \n",
       "0  ...    12.60  12.40  12.20  12.00  11.80  11.60  11.50  11.30  11.10  11.10  \n",
       "1  ...     2.32   2.30   2.27   2.24   2.22   2.19   2.16   2.14   2.11   2.11  \n",
       "2  ...     4.28   4.20   4.14   4.07   4.00   3.94   3.88   3.82   3.76   3.76  \n",
       "3  ...     0.86   0.84   0.83   0.81   0.80   0.79   0.78   0.77   0.76   0.76  \n",
       "4  ...    17.70  17.50  17.30  17.10  17.00  16.80  16.60  16.40  16.30  16.30  \n",
       "\n",
       "[5 rows x 302 columns]"
      ]
     },
     "execution_count": 4,
     "metadata": {},
     "output_type": "execute_result"
    }
   ],
   "source": [
    "# Read Child mortality indicator data.\n",
    "child_mortality_df = pd.read_csv('gapminder_data/child_mortality_0_5_year_olds_dying_per_1000_born.csv')\n",
    "child_mortality_df.head()"
   ]
  },
  {
   "cell_type": "code",
   "execution_count": 5,
   "metadata": {},
   "outputs": [
    {
     "data": {
      "text/html": [
       "<div>\n",
       "<style scoped>\n",
       "    .dataframe tbody tr th:only-of-type {\n",
       "        vertical-align: middle;\n",
       "    }\n",
       "\n",
       "    .dataframe tbody tr th {\n",
       "        vertical-align: top;\n",
       "    }\n",
       "\n",
       "    .dataframe thead th {\n",
       "        text-align: right;\n",
       "    }\n",
       "</style>\n",
       "<table border=\"1\" class=\"dataframe\">\n",
       "  <thead>\n",
       "    <tr style=\"text-align: right;\">\n",
       "      <th></th>\n",
       "      <th>country</th>\n",
       "      <th>1800</th>\n",
       "      <th>1801</th>\n",
       "      <th>1802</th>\n",
       "      <th>1803</th>\n",
       "      <th>1804</th>\n",
       "      <th>1805</th>\n",
       "      <th>1806</th>\n",
       "      <th>1807</th>\n",
       "      <th>1808</th>\n",
       "      <th>...</th>\n",
       "      <th>2091</th>\n",
       "      <th>2092</th>\n",
       "      <th>2093</th>\n",
       "      <th>2094</th>\n",
       "      <th>2095</th>\n",
       "      <th>2096</th>\n",
       "      <th>2097</th>\n",
       "      <th>2098</th>\n",
       "      <th>2099</th>\n",
       "      <th>2100</th>\n",
       "    </tr>\n",
       "  </thead>\n",
       "  <tbody>\n",
       "    <tr>\n",
       "      <th>0</th>\n",
       "      <td>Afghanistan</td>\n",
       "      <td>7.00</td>\n",
       "      <td>7.00</td>\n",
       "      <td>7.00</td>\n",
       "      <td>7.00</td>\n",
       "      <td>7.00</td>\n",
       "      <td>7.00</td>\n",
       "      <td>7.00</td>\n",
       "      <td>7.00</td>\n",
       "      <td>7.00</td>\n",
       "      <td>...</td>\n",
       "      <td>1.74</td>\n",
       "      <td>1.74</td>\n",
       "      <td>1.74</td>\n",
       "      <td>1.74</td>\n",
       "      <td>1.74</td>\n",
       "      <td>1.74</td>\n",
       "      <td>1.74</td>\n",
       "      <td>1.74</td>\n",
       "      <td>1.74</td>\n",
       "      <td>1.74</td>\n",
       "    </tr>\n",
       "    <tr>\n",
       "      <th>1</th>\n",
       "      <td>Albania</td>\n",
       "      <td>4.60</td>\n",
       "      <td>4.60</td>\n",
       "      <td>4.60</td>\n",
       "      <td>4.60</td>\n",
       "      <td>4.60</td>\n",
       "      <td>4.60</td>\n",
       "      <td>4.60</td>\n",
       "      <td>4.60</td>\n",
       "      <td>4.60</td>\n",
       "      <td>...</td>\n",
       "      <td>1.78</td>\n",
       "      <td>1.78</td>\n",
       "      <td>1.78</td>\n",
       "      <td>1.79</td>\n",
       "      <td>1.79</td>\n",
       "      <td>1.79</td>\n",
       "      <td>1.79</td>\n",
       "      <td>1.79</td>\n",
       "      <td>1.79</td>\n",
       "      <td>1.79</td>\n",
       "    </tr>\n",
       "    <tr>\n",
       "      <th>2</th>\n",
       "      <td>Algeria</td>\n",
       "      <td>6.99</td>\n",
       "      <td>6.99</td>\n",
       "      <td>6.99</td>\n",
       "      <td>6.99</td>\n",
       "      <td>6.99</td>\n",
       "      <td>6.99</td>\n",
       "      <td>6.99</td>\n",
       "      <td>6.99</td>\n",
       "      <td>6.99</td>\n",
       "      <td>...</td>\n",
       "      <td>1.86</td>\n",
       "      <td>1.86</td>\n",
       "      <td>1.86</td>\n",
       "      <td>1.86</td>\n",
       "      <td>1.86</td>\n",
       "      <td>1.86</td>\n",
       "      <td>1.86</td>\n",
       "      <td>1.86</td>\n",
       "      <td>1.86</td>\n",
       "      <td>1.86</td>\n",
       "    </tr>\n",
       "    <tr>\n",
       "      <th>3</th>\n",
       "      <td>Angola</td>\n",
       "      <td>6.93</td>\n",
       "      <td>6.93</td>\n",
       "      <td>6.93</td>\n",
       "      <td>6.93</td>\n",
       "      <td>6.93</td>\n",
       "      <td>6.93</td>\n",
       "      <td>6.93</td>\n",
       "      <td>6.94</td>\n",
       "      <td>6.94</td>\n",
       "      <td>...</td>\n",
       "      <td>2.54</td>\n",
       "      <td>2.52</td>\n",
       "      <td>2.50</td>\n",
       "      <td>2.48</td>\n",
       "      <td>2.47</td>\n",
       "      <td>2.45</td>\n",
       "      <td>2.43</td>\n",
       "      <td>2.42</td>\n",
       "      <td>2.40</td>\n",
       "      <td>2.40</td>\n",
       "    </tr>\n",
       "    <tr>\n",
       "      <th>4</th>\n",
       "      <td>Antigua and Barbuda</td>\n",
       "      <td>5.00</td>\n",
       "      <td>5.00</td>\n",
       "      <td>4.99</td>\n",
       "      <td>4.99</td>\n",
       "      <td>4.99</td>\n",
       "      <td>4.98</td>\n",
       "      <td>4.98</td>\n",
       "      <td>4.97</td>\n",
       "      <td>4.97</td>\n",
       "      <td>...</td>\n",
       "      <td>1.81</td>\n",
       "      <td>1.81</td>\n",
       "      <td>1.81</td>\n",
       "      <td>1.81</td>\n",
       "      <td>1.81</td>\n",
       "      <td>1.81</td>\n",
       "      <td>1.81</td>\n",
       "      <td>1.82</td>\n",
       "      <td>1.82</td>\n",
       "      <td>1.82</td>\n",
       "    </tr>\n",
       "  </tbody>\n",
       "</table>\n",
       "<p>5 rows × 302 columns</p>\n",
       "</div>"
      ],
      "text/plain": [
       "               country  1800  1801  1802  1803  1804  1805  1806  1807  1808  \\\n",
       "0          Afghanistan  7.00  7.00  7.00  7.00  7.00  7.00  7.00  7.00  7.00   \n",
       "1              Albania  4.60  4.60  4.60  4.60  4.60  4.60  4.60  4.60  4.60   \n",
       "2              Algeria  6.99  6.99  6.99  6.99  6.99  6.99  6.99  6.99  6.99   \n",
       "3               Angola  6.93  6.93  6.93  6.93  6.93  6.93  6.93  6.94  6.94   \n",
       "4  Antigua and Barbuda  5.00  5.00  4.99  4.99  4.99  4.98  4.98  4.97  4.97   \n",
       "\n",
       "   ...   2091  2092  2093  2094  2095  2096  2097  2098  2099  2100  \n",
       "0  ...   1.74  1.74  1.74  1.74  1.74  1.74  1.74  1.74  1.74  1.74  \n",
       "1  ...   1.78  1.78  1.78  1.79  1.79  1.79  1.79  1.79  1.79  1.79  \n",
       "2  ...   1.86  1.86  1.86  1.86  1.86  1.86  1.86  1.86  1.86  1.86  \n",
       "3  ...   2.54  2.52  2.50  2.48  2.47  2.45  2.43  2.42  2.40  2.40  \n",
       "4  ...   1.81  1.81  1.81  1.81  1.81  1.81  1.81  1.82  1.82  1.82  \n",
       "\n",
       "[5 rows x 302 columns]"
      ]
     },
     "execution_count": 5,
     "metadata": {},
     "output_type": "execute_result"
    }
   ],
   "source": [
    "# Read Child fertility indicator data.\n",
    "child_fertility_df = pd.read_csv('gapminder_data/children_per_woman_total_fertility.csv')\n",
    "child_fertility_df.head()"
   ]
  },
  {
   "cell_type": "code",
   "execution_count": 6,
   "metadata": {},
   "outputs": [
    {
     "data": {
      "text/html": [
       "<div>\n",
       "<style scoped>\n",
       "    .dataframe tbody tr th:only-of-type {\n",
       "        vertical-align: middle;\n",
       "    }\n",
       "\n",
       "    .dataframe tbody tr th {\n",
       "        vertical-align: top;\n",
       "    }\n",
       "\n",
       "    .dataframe thead th {\n",
       "        text-align: right;\n",
       "    }\n",
       "</style>\n",
       "<table border=\"1\" class=\"dataframe\">\n",
       "  <thead>\n",
       "    <tr style=\"text-align: right;\">\n",
       "      <th></th>\n",
       "      <th>country</th>\n",
       "      <th>1800</th>\n",
       "      <th>1801</th>\n",
       "      <th>1802</th>\n",
       "      <th>1803</th>\n",
       "      <th>1804</th>\n",
       "      <th>1805</th>\n",
       "      <th>1806</th>\n",
       "      <th>1807</th>\n",
       "      <th>1808</th>\n",
       "      <th>...</th>\n",
       "      <th>2031</th>\n",
       "      <th>2032</th>\n",
       "      <th>2033</th>\n",
       "      <th>2034</th>\n",
       "      <th>2035</th>\n",
       "      <th>2036</th>\n",
       "      <th>2037</th>\n",
       "      <th>2038</th>\n",
       "      <th>2039</th>\n",
       "      <th>2040</th>\n",
       "    </tr>\n",
       "  </thead>\n",
       "  <tbody>\n",
       "    <tr>\n",
       "      <th>0</th>\n",
       "      <td>Afghanistan</td>\n",
       "      <td>603</td>\n",
       "      <td>603</td>\n",
       "      <td>603</td>\n",
       "      <td>603</td>\n",
       "      <td>603</td>\n",
       "      <td>603</td>\n",
       "      <td>603</td>\n",
       "      <td>603</td>\n",
       "      <td>603</td>\n",
       "      <td>...</td>\n",
       "      <td>2550</td>\n",
       "      <td>2600</td>\n",
       "      <td>2660</td>\n",
       "      <td>2710</td>\n",
       "      <td>2770</td>\n",
       "      <td>2820</td>\n",
       "      <td>2880</td>\n",
       "      <td>2940</td>\n",
       "      <td>3000</td>\n",
       "      <td>3060</td>\n",
       "    </tr>\n",
       "    <tr>\n",
       "      <th>1</th>\n",
       "      <td>Albania</td>\n",
       "      <td>667</td>\n",
       "      <td>667</td>\n",
       "      <td>667</td>\n",
       "      <td>667</td>\n",
       "      <td>667</td>\n",
       "      <td>668</td>\n",
       "      <td>668</td>\n",
       "      <td>668</td>\n",
       "      <td>668</td>\n",
       "      <td>...</td>\n",
       "      <td>19400</td>\n",
       "      <td>19800</td>\n",
       "      <td>20200</td>\n",
       "      <td>20600</td>\n",
       "      <td>21000</td>\n",
       "      <td>21500</td>\n",
       "      <td>21900</td>\n",
       "      <td>22300</td>\n",
       "      <td>22800</td>\n",
       "      <td>23300</td>\n",
       "    </tr>\n",
       "    <tr>\n",
       "      <th>2</th>\n",
       "      <td>Algeria</td>\n",
       "      <td>715</td>\n",
       "      <td>716</td>\n",
       "      <td>717</td>\n",
       "      <td>718</td>\n",
       "      <td>719</td>\n",
       "      <td>720</td>\n",
       "      <td>721</td>\n",
       "      <td>722</td>\n",
       "      <td>723</td>\n",
       "      <td>...</td>\n",
       "      <td>14300</td>\n",
       "      <td>14600</td>\n",
       "      <td>14900</td>\n",
       "      <td>15200</td>\n",
       "      <td>15500</td>\n",
       "      <td>15800</td>\n",
       "      <td>16100</td>\n",
       "      <td>16500</td>\n",
       "      <td>16800</td>\n",
       "      <td>17100</td>\n",
       "    </tr>\n",
       "    <tr>\n",
       "      <th>3</th>\n",
       "      <td>Andorra</td>\n",
       "      <td>1200</td>\n",
       "      <td>1200</td>\n",
       "      <td>1200</td>\n",
       "      <td>1200</td>\n",
       "      <td>1210</td>\n",
       "      <td>1210</td>\n",
       "      <td>1210</td>\n",
       "      <td>1210</td>\n",
       "      <td>1220</td>\n",
       "      <td>...</td>\n",
       "      <td>73600</td>\n",
       "      <td>75100</td>\n",
       "      <td>76700</td>\n",
       "      <td>78300</td>\n",
       "      <td>79900</td>\n",
       "      <td>81500</td>\n",
       "      <td>83100</td>\n",
       "      <td>84800</td>\n",
       "      <td>86500</td>\n",
       "      <td>88300</td>\n",
       "    </tr>\n",
       "    <tr>\n",
       "      <th>4</th>\n",
       "      <td>Angola</td>\n",
       "      <td>618</td>\n",
       "      <td>620</td>\n",
       "      <td>623</td>\n",
       "      <td>626</td>\n",
       "      <td>628</td>\n",
       "      <td>631</td>\n",
       "      <td>634</td>\n",
       "      <td>637</td>\n",
       "      <td>640</td>\n",
       "      <td>...</td>\n",
       "      <td>6110</td>\n",
       "      <td>6230</td>\n",
       "      <td>6350</td>\n",
       "      <td>6480</td>\n",
       "      <td>6610</td>\n",
       "      <td>6750</td>\n",
       "      <td>6880</td>\n",
       "      <td>7020</td>\n",
       "      <td>7170</td>\n",
       "      <td>7310</td>\n",
       "    </tr>\n",
       "  </tbody>\n",
       "</table>\n",
       "<p>5 rows × 242 columns</p>\n",
       "</div>"
      ],
      "text/plain": [
       "       country  1800  1801  1802  1803  1804  1805  1806  1807  1808  ...    \\\n",
       "0  Afghanistan   603   603   603   603   603   603   603   603   603  ...     \n",
       "1      Albania   667   667   667   667   667   668   668   668   668  ...     \n",
       "2      Algeria   715   716   717   718   719   720   721   722   723  ...     \n",
       "3      Andorra  1200  1200  1200  1200  1210  1210  1210  1210  1220  ...     \n",
       "4       Angola   618   620   623   626   628   631   634   637   640  ...     \n",
       "\n",
       "    2031   2032   2033   2034   2035   2036   2037   2038   2039   2040  \n",
       "0   2550   2600   2660   2710   2770   2820   2880   2940   3000   3060  \n",
       "1  19400  19800  20200  20600  21000  21500  21900  22300  22800  23300  \n",
       "2  14300  14600  14900  15200  15500  15800  16100  16500  16800  17100  \n",
       "3  73600  75100  76700  78300  79900  81500  83100  84800  86500  88300  \n",
       "4   6110   6230   6350   6480   6610   6750   6880   7020   7170   7310  \n",
       "\n",
       "[5 rows x 242 columns]"
      ]
     },
     "execution_count": 6,
     "metadata": {},
     "output_type": "execute_result"
    }
   ],
   "source": [
    "# Read Income indicator data.\n",
    "income_df = pd.read_csv('gapminder_data/income_per_person_gdppercapita_ppp_inflation_adjusted.csv')\n",
    "income_df.head()"
   ]
  },
  {
   "cell_type": "code",
   "execution_count": 7,
   "metadata": {},
   "outputs": [
    {
     "data": {
      "text/html": [
       "<div>\n",
       "<style scoped>\n",
       "    .dataframe tbody tr th:only-of-type {\n",
       "        vertical-align: middle;\n",
       "    }\n",
       "\n",
       "    .dataframe tbody tr th {\n",
       "        vertical-align: top;\n",
       "    }\n",
       "\n",
       "    .dataframe thead th {\n",
       "        text-align: right;\n",
       "    }\n",
       "</style>\n",
       "<table border=\"1\" class=\"dataframe\">\n",
       "  <thead>\n",
       "    <tr style=\"text-align: right;\">\n",
       "      <th></th>\n",
       "      <th>country</th>\n",
       "      <th>1800</th>\n",
       "      <th>1801</th>\n",
       "      <th>1802</th>\n",
       "      <th>1803</th>\n",
       "      <th>1804</th>\n",
       "      <th>1805</th>\n",
       "      <th>1806</th>\n",
       "      <th>1807</th>\n",
       "      <th>1808</th>\n",
       "      <th>...</th>\n",
       "      <th>2091</th>\n",
       "      <th>2092</th>\n",
       "      <th>2093</th>\n",
       "      <th>2094</th>\n",
       "      <th>2095</th>\n",
       "      <th>2096</th>\n",
       "      <th>2097</th>\n",
       "      <th>2098</th>\n",
       "      <th>2099</th>\n",
       "      <th>2100</th>\n",
       "    </tr>\n",
       "  </thead>\n",
       "  <tbody>\n",
       "    <tr>\n",
       "      <th>0</th>\n",
       "      <td>Afghanistan</td>\n",
       "      <td>28.2</td>\n",
       "      <td>28.2</td>\n",
       "      <td>28.2</td>\n",
       "      <td>28.2</td>\n",
       "      <td>28.2</td>\n",
       "      <td>28.2</td>\n",
       "      <td>28.1</td>\n",
       "      <td>28.1</td>\n",
       "      <td>28.1</td>\n",
       "      <td>...</td>\n",
       "      <td>76.5</td>\n",
       "      <td>76.6</td>\n",
       "      <td>76.7</td>\n",
       "      <td>76.9</td>\n",
       "      <td>77.0</td>\n",
       "      <td>77.1</td>\n",
       "      <td>77.3</td>\n",
       "      <td>77.4</td>\n",
       "      <td>77.5</td>\n",
       "      <td>77.7</td>\n",
       "    </tr>\n",
       "    <tr>\n",
       "      <th>1</th>\n",
       "      <td>Albania</td>\n",
       "      <td>35.4</td>\n",
       "      <td>35.4</td>\n",
       "      <td>35.4</td>\n",
       "      <td>35.4</td>\n",
       "      <td>35.4</td>\n",
       "      <td>35.4</td>\n",
       "      <td>35.4</td>\n",
       "      <td>35.4</td>\n",
       "      <td>35.4</td>\n",
       "      <td>...</td>\n",
       "      <td>87.4</td>\n",
       "      <td>87.5</td>\n",
       "      <td>87.6</td>\n",
       "      <td>87.7</td>\n",
       "      <td>87.8</td>\n",
       "      <td>87.9</td>\n",
       "      <td>88.0</td>\n",
       "      <td>88.1</td>\n",
       "      <td>88.2</td>\n",
       "      <td>88.3</td>\n",
       "    </tr>\n",
       "    <tr>\n",
       "      <th>2</th>\n",
       "      <td>Algeria</td>\n",
       "      <td>28.8</td>\n",
       "      <td>28.8</td>\n",
       "      <td>28.8</td>\n",
       "      <td>28.8</td>\n",
       "      <td>28.8</td>\n",
       "      <td>28.8</td>\n",
       "      <td>28.8</td>\n",
       "      <td>28.8</td>\n",
       "      <td>28.8</td>\n",
       "      <td>...</td>\n",
       "      <td>88.3</td>\n",
       "      <td>88.4</td>\n",
       "      <td>88.5</td>\n",
       "      <td>88.6</td>\n",
       "      <td>88.7</td>\n",
       "      <td>88.8</td>\n",
       "      <td>88.9</td>\n",
       "      <td>89.0</td>\n",
       "      <td>89.1</td>\n",
       "      <td>89.2</td>\n",
       "    </tr>\n",
       "    <tr>\n",
       "      <th>3</th>\n",
       "      <td>Andorra</td>\n",
       "      <td>NaN</td>\n",
       "      <td>NaN</td>\n",
       "      <td>NaN</td>\n",
       "      <td>NaN</td>\n",
       "      <td>NaN</td>\n",
       "      <td>NaN</td>\n",
       "      <td>NaN</td>\n",
       "      <td>NaN</td>\n",
       "      <td>NaN</td>\n",
       "      <td>...</td>\n",
       "      <td>NaN</td>\n",
       "      <td>NaN</td>\n",
       "      <td>NaN</td>\n",
       "      <td>NaN</td>\n",
       "      <td>NaN</td>\n",
       "      <td>NaN</td>\n",
       "      <td>NaN</td>\n",
       "      <td>NaN</td>\n",
       "      <td>NaN</td>\n",
       "      <td>NaN</td>\n",
       "    </tr>\n",
       "    <tr>\n",
       "      <th>4</th>\n",
       "      <td>Angola</td>\n",
       "      <td>27.0</td>\n",
       "      <td>27.0</td>\n",
       "      <td>27.0</td>\n",
       "      <td>27.0</td>\n",
       "      <td>27.0</td>\n",
       "      <td>27.0</td>\n",
       "      <td>27.0</td>\n",
       "      <td>27.0</td>\n",
       "      <td>27.0</td>\n",
       "      <td>...</td>\n",
       "      <td>78.7</td>\n",
       "      <td>78.9</td>\n",
       "      <td>79.0</td>\n",
       "      <td>79.1</td>\n",
       "      <td>79.3</td>\n",
       "      <td>79.4</td>\n",
       "      <td>79.5</td>\n",
       "      <td>79.7</td>\n",
       "      <td>79.8</td>\n",
       "      <td>79.9</td>\n",
       "    </tr>\n",
       "  </tbody>\n",
       "</table>\n",
       "<p>5 rows × 302 columns</p>\n",
       "</div>"
      ],
      "text/plain": [
       "       country  1800  1801  1802  1803  1804  1805  1806  1807  1808  ...   \\\n",
       "0  Afghanistan  28.2  28.2  28.2  28.2  28.2  28.2  28.1  28.1  28.1  ...    \n",
       "1      Albania  35.4  35.4  35.4  35.4  35.4  35.4  35.4  35.4  35.4  ...    \n",
       "2      Algeria  28.8  28.8  28.8  28.8  28.8  28.8  28.8  28.8  28.8  ...    \n",
       "3      Andorra   NaN   NaN   NaN   NaN   NaN   NaN   NaN   NaN   NaN  ...    \n",
       "4       Angola  27.0  27.0  27.0  27.0  27.0  27.0  27.0  27.0  27.0  ...    \n",
       "\n",
       "   2091  2092  2093  2094  2095  2096  2097  2098  2099  2100  \n",
       "0  76.5  76.6  76.7  76.9  77.0  77.1  77.3  77.4  77.5  77.7  \n",
       "1  87.4  87.5  87.6  87.7  87.8  87.9  88.0  88.1  88.2  88.3  \n",
       "2  88.3  88.4  88.5  88.6  88.7  88.8  88.9  89.0  89.1  89.2  \n",
       "3   NaN   NaN   NaN   NaN   NaN   NaN   NaN   NaN   NaN   NaN  \n",
       "4  78.7  78.9  79.0  79.1  79.3  79.4  79.5  79.7  79.8  79.9  \n",
       "\n",
       "[5 rows x 302 columns]"
      ]
     },
     "execution_count": 7,
     "metadata": {},
     "output_type": "execute_result"
    }
   ],
   "source": [
    "# Read Life expectancy indicator data.\n",
    "life_expectancy_df = pd.read_csv('gapminder_data/life_expectancy_years.csv')\n",
    "life_expectancy_df.head()"
   ]
  },
  {
   "cell_type": "markdown",
   "metadata": {},
   "source": [
    "To study the trends in terms of the specific indicators that we have selected above, we need to group data according to the geographical regions. We get the regions data from <a href=\"https://www.gapminder.org/about-gapminder/\">**Gapminder**</a> website too. We will read these data into a dataframe and merge it with the main dataframe."
   ]
  },
  {
   "cell_type": "code",
   "execution_count": 8,
   "metadata": {},
   "outputs": [
    {
     "data": {
      "text/html": [
       "<div>\n",
       "<style scoped>\n",
       "    .dataframe tbody tr th:only-of-type {\n",
       "        vertical-align: middle;\n",
       "    }\n",
       "\n",
       "    .dataframe tbody tr th {\n",
       "        vertical-align: top;\n",
       "    }\n",
       "\n",
       "    .dataframe thead th {\n",
       "        text-align: right;\n",
       "    }\n",
       "</style>\n",
       "<table border=\"1\" class=\"dataframe\">\n",
       "  <thead>\n",
       "    <tr style=\"text-align: right;\">\n",
       "      <th></th>\n",
       "      <th>geo</th>\n",
       "      <th>name</th>\n",
       "      <th>four_regions</th>\n",
       "      <th>eight_regions</th>\n",
       "    </tr>\n",
       "  </thead>\n",
       "  <tbody>\n",
       "    <tr>\n",
       "      <th>0</th>\n",
       "      <td>aus</td>\n",
       "      <td>Australia</td>\n",
       "      <td>asia</td>\n",
       "      <td>east_asia_pacific</td>\n",
       "    </tr>\n",
       "    <tr>\n",
       "      <th>1</th>\n",
       "      <td>brn</td>\n",
       "      <td>Brunei</td>\n",
       "      <td>asia</td>\n",
       "      <td>east_asia_pacific</td>\n",
       "    </tr>\n",
       "    <tr>\n",
       "      <th>2</th>\n",
       "      <td>khm</td>\n",
       "      <td>Cambodia</td>\n",
       "      <td>asia</td>\n",
       "      <td>east_asia_pacific</td>\n",
       "    </tr>\n",
       "    <tr>\n",
       "      <th>3</th>\n",
       "      <td>chn</td>\n",
       "      <td>China</td>\n",
       "      <td>asia</td>\n",
       "      <td>east_asia_pacific</td>\n",
       "    </tr>\n",
       "    <tr>\n",
       "      <th>4</th>\n",
       "      <td>fji</td>\n",
       "      <td>Fiji</td>\n",
       "      <td>asia</td>\n",
       "      <td>east_asia_pacific</td>\n",
       "    </tr>\n",
       "  </tbody>\n",
       "</table>\n",
       "</div>"
      ],
      "text/plain": [
       "   geo       name four_regions      eight_regions\n",
       "0  aus  Australia         asia  east_asia_pacific\n",
       "1  brn     Brunei         asia  east_asia_pacific\n",
       "2  khm   Cambodia         asia  east_asia_pacific\n",
       "3  chn      China         asia  east_asia_pacific\n",
       "4  fji       Fiji         asia  east_asia_pacific"
      ]
     },
     "execution_count": 8,
     "metadata": {},
     "output_type": "execute_result"
    }
   ],
   "source": [
    "# Read regions data.\n",
    "df_region = pd.read_csv('gapminder_data/region_data.csv')\n",
    "df_region.head()"
   ]
  },
  {
   "cell_type": "markdown",
   "metadata": {},
   "source": [
    "Done! All the data we need are ready now. Let us reshape our dataframe in an acceptable format before we coninue the cleaning and exploration steps.\n",
    "\n",
    "First, we need to transform years columns into a categorical **year** column for each indicator's dataframe."
   ]
  },
  {
   "cell_type": "code",
   "execution_count": 9,
   "metadata": {},
   "outputs": [],
   "source": [
    "column_list = [ 'income','child_mortality', 'child_fertility', 'life_expectancy']\n",
    "df_list = [income_df, child_mortality_df, child_fertility_df, life_expectancy_df]\n",
    "\n",
    "for i, (df, column_name) in enumerate(zip(df_list, column_list)):\n",
    "    df_list[i] = df_list[i].melt(id_vars=['country'], var_name='year', value_name=column_name)"
   ]
  },
  {
   "cell_type": "markdown",
   "metadata": {},
   "source": [
    "Let us print the first rows of each dataframe after we are done reshaping our data."
   ]
  },
  {
   "cell_type": "code",
   "execution_count": 10,
   "metadata": {},
   "outputs": [
    {
     "name": "stdout",
     "output_type": "stream",
     "text": [
      "       country  year  income\n",
      "0  Afghanistan  1800     603\n",
      "1      Albania  1800     667\n",
      "2      Algeria  1800     715\n",
      "3      Andorra  1800    1200\n",
      "4       Angola  1800     618\n",
      "\n",
      "\n",
      "       country  year  child_mortality\n",
      "0  Afghanistan  1800            469.0\n",
      "1      Albania  1800            375.0\n",
      "2      Algeria  1800            460.0\n",
      "3      Andorra  1800              NaN\n",
      "4       Angola  1800            486.0\n",
      "\n",
      "\n",
      "               country  year  child_fertility\n",
      "0          Afghanistan  1800             7.00\n",
      "1              Albania  1800             4.60\n",
      "2              Algeria  1800             6.99\n",
      "3               Angola  1800             6.93\n",
      "4  Antigua and Barbuda  1800             5.00\n",
      "\n",
      "\n",
      "       country  year  life_expectancy\n",
      "0  Afghanistan  1800             28.2\n",
      "1      Albania  1800             35.4\n",
      "2      Algeria  1800             28.8\n",
      "3      Andorra  1800              NaN\n",
      "4       Angola  1800             27.0\n",
      "\n",
      "\n"
     ]
    }
   ],
   "source": [
    "for i, df in enumerate(df_list):\n",
    "    print(df.head())\n",
    "    print(\"\\n\")"
   ]
  },
  {
   "cell_type": "markdown",
   "metadata": {},
   "source": [
    "Second, we merge the four dataframes into a single one."
   ]
  },
  {
   "cell_type": "code",
   "execution_count": 11,
   "metadata": {},
   "outputs": [
    {
     "data": {
      "text/html": [
       "<div>\n",
       "<style scoped>\n",
       "    .dataframe tbody tr th:only-of-type {\n",
       "        vertical-align: middle;\n",
       "    }\n",
       "\n",
       "    .dataframe tbody tr th {\n",
       "        vertical-align: top;\n",
       "    }\n",
       "\n",
       "    .dataframe thead th {\n",
       "        text-align: right;\n",
       "    }\n",
       "</style>\n",
       "<table border=\"1\" class=\"dataframe\">\n",
       "  <thead>\n",
       "    <tr style=\"text-align: right;\">\n",
       "      <th></th>\n",
       "      <th>country</th>\n",
       "      <th>year</th>\n",
       "      <th>income</th>\n",
       "      <th>child_mortality</th>\n",
       "      <th>child_fertility</th>\n",
       "      <th>life_expectancy</th>\n",
       "    </tr>\n",
       "  </thead>\n",
       "  <tbody>\n",
       "    <tr>\n",
       "      <th>0</th>\n",
       "      <td>Afghanistan</td>\n",
       "      <td>1800</td>\n",
       "      <td>603.0</td>\n",
       "      <td>469.0</td>\n",
       "      <td>7.00</td>\n",
       "      <td>28.2</td>\n",
       "    </tr>\n",
       "    <tr>\n",
       "      <th>1</th>\n",
       "      <td>Albania</td>\n",
       "      <td>1800</td>\n",
       "      <td>667.0</td>\n",
       "      <td>375.0</td>\n",
       "      <td>4.60</td>\n",
       "      <td>35.4</td>\n",
       "    </tr>\n",
       "    <tr>\n",
       "      <th>2</th>\n",
       "      <td>Algeria</td>\n",
       "      <td>1800</td>\n",
       "      <td>715.0</td>\n",
       "      <td>460.0</td>\n",
       "      <td>6.99</td>\n",
       "      <td>28.8</td>\n",
       "    </tr>\n",
       "    <tr>\n",
       "      <th>3</th>\n",
       "      <td>Andorra</td>\n",
       "      <td>1800</td>\n",
       "      <td>1200.0</td>\n",
       "      <td>NaN</td>\n",
       "      <td>NaN</td>\n",
       "      <td>NaN</td>\n",
       "    </tr>\n",
       "    <tr>\n",
       "      <th>4</th>\n",
       "      <td>Angola</td>\n",
       "      <td>1800</td>\n",
       "      <td>618.0</td>\n",
       "      <td>486.0</td>\n",
       "      <td>6.93</td>\n",
       "      <td>27.0</td>\n",
       "    </tr>\n",
       "  </tbody>\n",
       "</table>\n",
       "</div>"
      ],
      "text/plain": [
       "       country  year  income  child_mortality  child_fertility  \\\n",
       "0  Afghanistan  1800   603.0            469.0             7.00   \n",
       "1      Albania  1800   667.0            375.0             4.60   \n",
       "2      Algeria  1800   715.0            460.0             6.99   \n",
       "3      Andorra  1800  1200.0              NaN              NaN   \n",
       "4       Angola  1800   618.0            486.0             6.93   \n",
       "\n",
       "   life_expectancy  \n",
       "0             28.2  \n",
       "1             35.4  \n",
       "2             28.8  \n",
       "3              NaN  \n",
       "4             27.0  "
      ]
     },
     "execution_count": 11,
     "metadata": {},
     "output_type": "execute_result"
    }
   ],
   "source": [
    "df = reduce(lambda  left,right: pd.merge(left,right,on=['country','year'], how='outer'), df_list)\n",
    "df.head()"
   ]
  },
  {
   "cell_type": "markdown",
   "metadata": {},
   "source": [
    "Let us see our merged dataframe info."
   ]
  },
  {
   "cell_type": "code",
   "execution_count": 12,
   "metadata": {},
   "outputs": [
    {
     "name": "stdout",
     "output_type": "stream",
     "text": [
      "<class 'pandas.core.frame.DataFrame'>\n",
      "Int64Index: 58695 entries, 0 to 58694\n",
      "Data columns (total 6 columns):\n",
      "country            58695 non-null object\n",
      "year               58695 non-null object\n",
      "income             46513 non-null float64\n",
      "child_mortality    57045 non-null float64\n",
      "child_fertility    55384 non-null float64\n",
      "life_expectancy    55528 non-null float64\n",
      "dtypes: float64(4), object(2)\n",
      "memory usage: 3.1+ MB\n"
     ]
    }
   ],
   "source": [
    "df.info()"
   ]
  },
  {
   "cell_type": "markdown",
   "metadata": {},
   "source": [
    "As we can read from the above info, some columns have missing values. In addition, we need to check the datatype for the **year** column. It must be an integer type to be able to only keep the data for the last **70** years. We do the cleaning in the next section."
   ]
  },
  {
   "cell_type": "markdown",
   "metadata": {},
   "source": [
    "\n",
    "### Data Cleaning"
   ]
  },
  {
   "cell_type": "code",
   "execution_count": 13,
   "metadata": {},
   "outputs": [
    {
     "data": {
      "text/plain": [
       "pandas.core.series.Series"
      ]
     },
     "execution_count": 13,
     "metadata": {},
     "output_type": "execute_result"
    }
   ],
   "source": [
    "# Check the datatype of 'year' column.\n",
    "type(df['year'])"
   ]
  },
  {
   "cell_type": "code",
   "execution_count": 14,
   "metadata": {},
   "outputs": [
    {
     "data": {
      "text/plain": [
       "str"
      ]
     },
     "execution_count": 14,
     "metadata": {},
     "output_type": "execute_result"
    }
   ],
   "source": [
    "# Check the values' type.\n",
    "type(df['year'][0])"
   ]
  },
  {
   "cell_type": "markdown",
   "metadata": {},
   "source": [
    "We change the **year**'s column datatype into an **int**, so we can use it in comparison conditions to decide which ranges of years to drop."
   ]
  },
  {
   "cell_type": "code",
   "execution_count": 15,
   "metadata": {},
   "outputs": [
    {
     "name": "stdout",
     "output_type": "stream",
     "text": [
      "<class 'pandas.core.frame.DataFrame'>\n",
      "Int64Index: 58695 entries, 0 to 58694\n",
      "Data columns (total 6 columns):\n",
      "country            58695 non-null object\n",
      "year               58695 non-null int64\n",
      "income             46513 non-null float64\n",
      "child_mortality    57045 non-null float64\n",
      "child_fertility    55384 non-null float64\n",
      "life_expectancy    55528 non-null float64\n",
      "dtypes: float64(4), int64(1), object(1)\n",
      "memory usage: 5.6+ MB\n"
     ]
    }
   ],
   "source": [
    "df['year'] = df['year'].astype(int)\n",
    "df.info()"
   ]
  },
  {
   "cell_type": "markdown",
   "metadata": {},
   "source": [
    "As we stated in the introduction section, we'll only consider the last **70** years in our study. So we will drop all the rows, with the **year** value is after **2019**, and the ones with the **year** value is before **1950**."
   ]
  },
  {
   "cell_type": "code",
   "execution_count": 16,
   "metadata": {},
   "outputs": [],
   "source": [
    "df = df.drop( df[ (df.year >= 1800) & (df.year < 1950) ].index )"
   ]
  },
  {
   "cell_type": "code",
   "execution_count": 17,
   "metadata": {},
   "outputs": [],
   "source": [
    "df = df.drop( df[ df.year > 2019 ].index )"
   ]
  },
  {
   "cell_type": "code",
   "execution_count": 18,
   "metadata": {},
   "outputs": [
    {
     "name": "stdout",
     "output_type": "stream",
     "text": [
      "<class 'pandas.core.frame.DataFrame'>\n",
      "Int64Index: 13650 entries, 28950 to 46952\n",
      "Data columns (total 6 columns):\n",
      "country            13650 non-null object\n",
      "year               13650 non-null int64\n",
      "income             13510 non-null float64\n",
      "child_mortality    13650 non-null float64\n",
      "child_fertility    12880 non-null float64\n",
      "life_expectancy    13024 non-null float64\n",
      "dtypes: float64(4), int64(1), object(1)\n",
      "memory usage: 746.5+ KB\n"
     ]
    }
   ],
   "source": [
    "df.info()"
   ]
  },
  {
   "cell_type": "markdown",
   "metadata": {},
   "source": [
    "It is clear from the above info that most columns have some missing values. We will see which columns and how many missing values each one has."
   ]
  },
  {
   "cell_type": "code",
   "execution_count": 19,
   "metadata": {},
   "outputs": [
    {
     "data": {
      "text/plain": [
       "country              0\n",
       "year                 0\n",
       "income             140\n",
       "child_mortality      0\n",
       "child_fertility    770\n",
       "life_expectancy    626\n",
       "dtype: int64"
      ]
     },
     "execution_count": 19,
     "metadata": {},
     "output_type": "execute_result"
    }
   ],
   "source": [
    "df.isnull().sum()"
   ]
  },
  {
   "cell_type": "markdown",
   "metadata": {},
   "source": [
    "Afterward, we need to see which countries have missing values and for which columns. Because we have data for each country for **70** years, if we group by **country** name, each column must have **70** values if it does not have any **null** values."
   ]
  },
  {
   "cell_type": "code",
   "execution_count": 20,
   "metadata": {},
   "outputs": [
    {
     "data": {
      "text/html": [
       "<div>\n",
       "<style scoped>\n",
       "    .dataframe tbody tr th:only-of-type {\n",
       "        vertical-align: middle;\n",
       "    }\n",
       "\n",
       "    .dataframe tbody tr th {\n",
       "        vertical-align: top;\n",
       "    }\n",
       "\n",
       "    .dataframe thead th {\n",
       "        text-align: right;\n",
       "    }\n",
       "</style>\n",
       "<table border=\"1\" class=\"dataframe\">\n",
       "  <thead>\n",
       "    <tr style=\"text-align: right;\">\n",
       "      <th></th>\n",
       "      <th>year</th>\n",
       "      <th>income</th>\n",
       "      <th>child_mortality</th>\n",
       "      <th>child_fertility</th>\n",
       "      <th>life_expectancy</th>\n",
       "    </tr>\n",
       "    <tr>\n",
       "      <th>country</th>\n",
       "      <th></th>\n",
       "      <th></th>\n",
       "      <th></th>\n",
       "      <th></th>\n",
       "      <th></th>\n",
       "    </tr>\n",
       "  </thead>\n",
       "  <tbody>\n",
       "    <tr>\n",
       "      <th>Andorra</th>\n",
       "      <td>70</td>\n",
       "      <td>70</td>\n",
       "      <td>70</td>\n",
       "      <td>0</td>\n",
       "      <td>48</td>\n",
       "    </tr>\n",
       "    <tr>\n",
       "      <th>Dominica</th>\n",
       "      <td>70</td>\n",
       "      <td>70</td>\n",
       "      <td>70</td>\n",
       "      <td>0</td>\n",
       "      <td>48</td>\n",
       "    </tr>\n",
       "    <tr>\n",
       "      <th>Holy See</th>\n",
       "      <td>70</td>\n",
       "      <td>0</td>\n",
       "      <td>70</td>\n",
       "      <td>0</td>\n",
       "      <td>0</td>\n",
       "    </tr>\n",
       "    <tr>\n",
       "      <th>Liechtenstein</th>\n",
       "      <td>70</td>\n",
       "      <td>0</td>\n",
       "      <td>70</td>\n",
       "      <td>0</td>\n",
       "      <td>0</td>\n",
       "    </tr>\n",
       "    <tr>\n",
       "      <th>Marshall Islands</th>\n",
       "      <td>70</td>\n",
       "      <td>70</td>\n",
       "      <td>70</td>\n",
       "      <td>0</td>\n",
       "      <td>48</td>\n",
       "    </tr>\n",
       "    <tr>\n",
       "      <th>Monaco</th>\n",
       "      <td>70</td>\n",
       "      <td>70</td>\n",
       "      <td>70</td>\n",
       "      <td>0</td>\n",
       "      <td>0</td>\n",
       "    </tr>\n",
       "    <tr>\n",
       "      <th>Nauru</th>\n",
       "      <td>70</td>\n",
       "      <td>70</td>\n",
       "      <td>70</td>\n",
       "      <td>0</td>\n",
       "      <td>0</td>\n",
       "    </tr>\n",
       "    <tr>\n",
       "      <th>Palau</th>\n",
       "      <td>70</td>\n",
       "      <td>70</td>\n",
       "      <td>70</td>\n",
       "      <td>0</td>\n",
       "      <td>0</td>\n",
       "    </tr>\n",
       "    <tr>\n",
       "      <th>San Marino</th>\n",
       "      <td>70</td>\n",
       "      <td>70</td>\n",
       "      <td>70</td>\n",
       "      <td>0</td>\n",
       "      <td>0</td>\n",
       "    </tr>\n",
       "    <tr>\n",
       "      <th>St. Kitts and Nevis</th>\n",
       "      <td>70</td>\n",
       "      <td>70</td>\n",
       "      <td>70</td>\n",
       "      <td>0</td>\n",
       "      <td>0</td>\n",
       "    </tr>\n",
       "    <tr>\n",
       "      <th>Tuvalu</th>\n",
       "      <td>70</td>\n",
       "      <td>70</td>\n",
       "      <td>70</td>\n",
       "      <td>0</td>\n",
       "      <td>0</td>\n",
       "    </tr>\n",
       "  </tbody>\n",
       "</table>\n",
       "</div>"
      ],
      "text/plain": [
       "                     year  income  child_mortality  child_fertility  \\\n",
       "country                                                               \n",
       "Andorra                70      70               70                0   \n",
       "Dominica               70      70               70                0   \n",
       "Holy See               70       0               70                0   \n",
       "Liechtenstein          70       0               70                0   \n",
       "Marshall Islands       70      70               70                0   \n",
       "Monaco                 70      70               70                0   \n",
       "Nauru                  70      70               70                0   \n",
       "Palau                  70      70               70                0   \n",
       "San Marino             70      70               70                0   \n",
       "St. Kitts and Nevis    70      70               70                0   \n",
       "Tuvalu                 70      70               70                0   \n",
       "\n",
       "                     life_expectancy  \n",
       "country                               \n",
       "Andorra                           48  \n",
       "Dominica                          48  \n",
       "Holy See                           0  \n",
       "Liechtenstein                      0  \n",
       "Marshall Islands                  48  \n",
       "Monaco                             0  \n",
       "Nauru                              0  \n",
       "Palau                              0  \n",
       "San Marino                         0  \n",
       "St. Kitts and Nevis                0  \n",
       "Tuvalu                             0  "
      ]
     },
     "execution_count": 20,
     "metadata": {},
     "output_type": "execute_result"
    }
   ],
   "source": [
    "df.groupby('country').count().query('life_expectancy < 70')"
   ]
  },
  {
   "cell_type": "markdown",
   "metadata": {},
   "source": [
    "According to the total of missing values for each column and the result of the above query, we get a list of countries that have some missing values. We decided to drop all rows of these countries."
   ]
  },
  {
   "cell_type": "code",
   "execution_count": 21,
   "metadata": {},
   "outputs": [],
   "source": [
    "countries_to_be_deleted = [\n",
    "    'Andorra',\n",
    "    'Dominica',\n",
    "    'Holy See',\n",
    "    'Liechtenstein',\n",
    "    'Marshall Islands',\n",
    "    'Monaco',\n",
    "    'Nauru',\n",
    "    'Palau',\n",
    "    'San Marino',\n",
    "    'St. Kitts and Nevis',\n",
    "    'Tuvalu'\n",
    "]\n",
    "\n",
    "df.drop( df[ df.country.isin(countries_to_be_deleted) ].index, inplace=True)"
   ]
  },
  {
   "cell_type": "markdown",
   "metadata": {},
   "source": [
    "We show the statistics of our final dataframe here to see if anything else needs to be corrected."
   ]
  },
  {
   "cell_type": "code",
   "execution_count": 22,
   "metadata": {},
   "outputs": [
    {
     "data": {
      "text/plain": [
       "(12880, 6)"
      ]
     },
     "execution_count": 22,
     "metadata": {},
     "output_type": "execute_result"
    }
   ],
   "source": [
    "df.shape"
   ]
  },
  {
   "cell_type": "code",
   "execution_count": 23,
   "metadata": {},
   "outputs": [
    {
     "name": "stdout",
     "output_type": "stream",
     "text": [
      "<class 'pandas.core.frame.DataFrame'>\n",
      "Int64Index: 12880 entries, 28950 to 42459\n",
      "Data columns (total 6 columns):\n",
      "country            12880 non-null object\n",
      "year               12880 non-null int64\n",
      "income             12880 non-null float64\n",
      "child_mortality    12880 non-null float64\n",
      "child_fertility    12880 non-null float64\n",
      "life_expectancy    12880 non-null float64\n",
      "dtypes: float64(4), int64(1), object(1)\n",
      "memory usage: 704.4+ KB\n"
     ]
    }
   ],
   "source": [
    "df.info()"
   ]
  },
  {
   "cell_type": "code",
   "execution_count": 24,
   "metadata": {},
   "outputs": [
    {
     "data": {
      "text/html": [
       "<div>\n",
       "<style scoped>\n",
       "    .dataframe tbody tr th:only-of-type {\n",
       "        vertical-align: middle;\n",
       "    }\n",
       "\n",
       "    .dataframe tbody tr th {\n",
       "        vertical-align: top;\n",
       "    }\n",
       "\n",
       "    .dataframe thead th {\n",
       "        text-align: right;\n",
       "    }\n",
       "</style>\n",
       "<table border=\"1\" class=\"dataframe\">\n",
       "  <thead>\n",
       "    <tr style=\"text-align: right;\">\n",
       "      <th></th>\n",
       "      <th>country</th>\n",
       "      <th>year</th>\n",
       "      <th>income</th>\n",
       "      <th>child_mortality</th>\n",
       "      <th>child_fertility</th>\n",
       "      <th>life_expectancy</th>\n",
       "    </tr>\n",
       "  </thead>\n",
       "  <tbody>\n",
       "    <tr>\n",
       "      <th>28950</th>\n",
       "      <td>Afghanistan</td>\n",
       "      <td>1950</td>\n",
       "      <td>2390.0</td>\n",
       "      <td>416.0</td>\n",
       "      <td>7.57</td>\n",
       "      <td>32.5</td>\n",
       "    </tr>\n",
       "    <tr>\n",
       "      <th>28951</th>\n",
       "      <td>Albania</td>\n",
       "      <td>1950</td>\n",
       "      <td>1780.0</td>\n",
       "      <td>280.0</td>\n",
       "      <td>5.87</td>\n",
       "      <td>54.1</td>\n",
       "    </tr>\n",
       "    <tr>\n",
       "      <th>28952</th>\n",
       "      <td>Algeria</td>\n",
       "      <td>1950</td>\n",
       "      <td>4640.0</td>\n",
       "      <td>258.0</td>\n",
       "      <td>7.49</td>\n",
       "      <td>47.3</td>\n",
       "    </tr>\n",
       "    <tr>\n",
       "      <th>28954</th>\n",
       "      <td>Angola</td>\n",
       "      <td>1950</td>\n",
       "      <td>3180.0</td>\n",
       "      <td>331.0</td>\n",
       "      <td>7.11</td>\n",
       "      <td>35.2</td>\n",
       "    </tr>\n",
       "    <tr>\n",
       "      <th>28955</th>\n",
       "      <td>Antigua and Barbuda</td>\n",
       "      <td>1950</td>\n",
       "      <td>3470.0</td>\n",
       "      <td>128.0</td>\n",
       "      <td>4.45</td>\n",
       "      <td>58.5</td>\n",
       "    </tr>\n",
       "  </tbody>\n",
       "</table>\n",
       "</div>"
      ],
      "text/plain": [
       "                   country  year  income  child_mortality  child_fertility  \\\n",
       "28950          Afghanistan  1950  2390.0            416.0             7.57   \n",
       "28951              Albania  1950  1780.0            280.0             5.87   \n",
       "28952              Algeria  1950  4640.0            258.0             7.49   \n",
       "28954               Angola  1950  3180.0            331.0             7.11   \n",
       "28955  Antigua and Barbuda  1950  3470.0            128.0             4.45   \n",
       "\n",
       "       life_expectancy  \n",
       "28950             32.5  \n",
       "28951             54.1  \n",
       "28952             47.3  \n",
       "28954             35.2  \n",
       "28955             58.5  "
      ]
     },
     "execution_count": 24,
     "metadata": {},
     "output_type": "execute_result"
    }
   ],
   "source": [
    "df.head()"
   ]
  },
  {
   "cell_type": "code",
   "execution_count": 25,
   "metadata": {},
   "outputs": [
    {
     "data": {
      "text/html": [
       "<div>\n",
       "<style scoped>\n",
       "    .dataframe tbody tr th:only-of-type {\n",
       "        vertical-align: middle;\n",
       "    }\n",
       "\n",
       "    .dataframe tbody tr th {\n",
       "        vertical-align: top;\n",
       "    }\n",
       "\n",
       "    .dataframe thead th {\n",
       "        text-align: right;\n",
       "    }\n",
       "</style>\n",
       "<table border=\"1\" class=\"dataframe\">\n",
       "  <thead>\n",
       "    <tr style=\"text-align: right;\">\n",
       "      <th></th>\n",
       "      <th>year</th>\n",
       "      <th>income</th>\n",
       "      <th>child_mortality</th>\n",
       "      <th>child_fertility</th>\n",
       "      <th>life_expectancy</th>\n",
       "    </tr>\n",
       "  </thead>\n",
       "  <tbody>\n",
       "    <tr>\n",
       "      <th>count</th>\n",
       "      <td>12880.000000</td>\n",
       "      <td>12880.000000</td>\n",
       "      <td>12880.000000</td>\n",
       "      <td>12880.000000</td>\n",
       "      <td>12880.000000</td>\n",
       "    </tr>\n",
       "    <tr>\n",
       "      <th>mean</th>\n",
       "      <td>1984.500000</td>\n",
       "      <td>11230.876941</td>\n",
       "      <td>99.100276</td>\n",
       "      <td>4.295288</td>\n",
       "      <td>63.353466</td>\n",
       "    </tr>\n",
       "    <tr>\n",
       "      <th>std</th>\n",
       "      <td>20.205982</td>\n",
       "      <td>16545.313072</td>\n",
       "      <td>94.571476</td>\n",
       "      <td>2.045989</td>\n",
       "      <td>11.345131</td>\n",
       "    </tr>\n",
       "    <tr>\n",
       "      <th>min</th>\n",
       "      <td>1950.000000</td>\n",
       "      <td>312.000000</td>\n",
       "      <td>1.630000</td>\n",
       "      <td>1.120000</td>\n",
       "      <td>9.640000</td>\n",
       "    </tr>\n",
       "    <tr>\n",
       "      <th>25%</th>\n",
       "      <td>1967.000000</td>\n",
       "      <td>2210.000000</td>\n",
       "      <td>22.300000</td>\n",
       "      <td>2.320000</td>\n",
       "      <td>55.200000</td>\n",
       "    </tr>\n",
       "    <tr>\n",
       "      <th>50%</th>\n",
       "      <td>1984.500000</td>\n",
       "      <td>5090.000000</td>\n",
       "      <td>65.700000</td>\n",
       "      <td>4.190000</td>\n",
       "      <td>65.800000</td>\n",
       "    </tr>\n",
       "    <tr>\n",
       "      <th>75%</th>\n",
       "      <td>2002.000000</td>\n",
       "      <td>13300.000000</td>\n",
       "      <td>153.000000</td>\n",
       "      <td>6.250000</td>\n",
       "      <td>72.100000</td>\n",
       "    </tr>\n",
       "    <tr>\n",
       "      <th>max</th>\n",
       "      <td>2019.000000</td>\n",
       "      <td>179000.000000</td>\n",
       "      <td>448.000000</td>\n",
       "      <td>8.870000</td>\n",
       "      <td>85.100000</td>\n",
       "    </tr>\n",
       "  </tbody>\n",
       "</table>\n",
       "</div>"
      ],
      "text/plain": [
       "               year         income  child_mortality  child_fertility  \\\n",
       "count  12880.000000   12880.000000     12880.000000     12880.000000   \n",
       "mean    1984.500000   11230.876941        99.100276         4.295288   \n",
       "std       20.205982   16545.313072        94.571476         2.045989   \n",
       "min     1950.000000     312.000000         1.630000         1.120000   \n",
       "25%     1967.000000    2210.000000        22.300000         2.320000   \n",
       "50%     1984.500000    5090.000000        65.700000         4.190000   \n",
       "75%     2002.000000   13300.000000       153.000000         6.250000   \n",
       "max     2019.000000  179000.000000       448.000000         8.870000   \n",
       "\n",
       "       life_expectancy  \n",
       "count     12880.000000  \n",
       "mean         63.353466  \n",
       "std          11.345131  \n",
       "min           9.640000  \n",
       "25%          55.200000  \n",
       "50%          65.800000  \n",
       "75%          72.100000  \n",
       "max          85.100000  "
      ]
     },
     "execution_count": 25,
     "metadata": {},
     "output_type": "execute_result"
    }
   ],
   "source": [
    "df.describe()"
   ]
  },
  {
   "cell_type": "markdown",
   "metadata": {},
   "source": [
    "**Well done!** Now, we merge the regions dataframe into our main dataframe."
   ]
  },
  {
   "cell_type": "code",
   "execution_count": 26,
   "metadata": {},
   "outputs": [
    {
     "name": "stdout",
     "output_type": "stream",
     "text": [
      "<class 'pandas.core.frame.DataFrame'>\n",
      "RangeIndex: 197 entries, 0 to 196\n",
      "Data columns (total 4 columns):\n",
      "geo              197 non-null object\n",
      "name             197 non-null object\n",
      "four_regions     197 non-null object\n",
      "eight_regions    197 non-null object\n",
      "dtypes: object(4)\n",
      "memory usage: 6.2+ KB\n"
     ]
    }
   ],
   "source": [
    "df_region.info()"
   ]
  },
  {
   "cell_type": "code",
   "execution_count": 27,
   "metadata": {},
   "outputs": [
    {
     "data": {
      "text/html": [
       "<div>\n",
       "<style scoped>\n",
       "    .dataframe tbody tr th:only-of-type {\n",
       "        vertical-align: middle;\n",
       "    }\n",
       "\n",
       "    .dataframe tbody tr th {\n",
       "        vertical-align: top;\n",
       "    }\n",
       "\n",
       "    .dataframe thead th {\n",
       "        text-align: right;\n",
       "    }\n",
       "</style>\n",
       "<table border=\"1\" class=\"dataframe\">\n",
       "  <thead>\n",
       "    <tr style=\"text-align: right;\">\n",
       "      <th></th>\n",
       "      <th>geo</th>\n",
       "      <th>name</th>\n",
       "      <th>four_regions</th>\n",
       "      <th>eight_regions</th>\n",
       "    </tr>\n",
       "  </thead>\n",
       "  <tbody>\n",
       "    <tr>\n",
       "      <th>0</th>\n",
       "      <td>aus</td>\n",
       "      <td>Australia</td>\n",
       "      <td>asia</td>\n",
       "      <td>east_asia_pacific</td>\n",
       "    </tr>\n",
       "    <tr>\n",
       "      <th>1</th>\n",
       "      <td>brn</td>\n",
       "      <td>Brunei</td>\n",
       "      <td>asia</td>\n",
       "      <td>east_asia_pacific</td>\n",
       "    </tr>\n",
       "    <tr>\n",
       "      <th>2</th>\n",
       "      <td>khm</td>\n",
       "      <td>Cambodia</td>\n",
       "      <td>asia</td>\n",
       "      <td>east_asia_pacific</td>\n",
       "    </tr>\n",
       "    <tr>\n",
       "      <th>3</th>\n",
       "      <td>chn</td>\n",
       "      <td>China</td>\n",
       "      <td>asia</td>\n",
       "      <td>east_asia_pacific</td>\n",
       "    </tr>\n",
       "    <tr>\n",
       "      <th>4</th>\n",
       "      <td>fji</td>\n",
       "      <td>Fiji</td>\n",
       "      <td>asia</td>\n",
       "      <td>east_asia_pacific</td>\n",
       "    </tr>\n",
       "  </tbody>\n",
       "</table>\n",
       "</div>"
      ],
      "text/plain": [
       "   geo       name four_regions      eight_regions\n",
       "0  aus  Australia         asia  east_asia_pacific\n",
       "1  brn     Brunei         asia  east_asia_pacific\n",
       "2  khm   Cambodia         asia  east_asia_pacific\n",
       "3  chn      China         asia  east_asia_pacific\n",
       "4  fji       Fiji         asia  east_asia_pacific"
      ]
     },
     "execution_count": 27,
     "metadata": {},
     "output_type": "execute_result"
    }
   ],
   "source": [
    "df_region.head()"
   ]
  },
  {
   "cell_type": "code",
   "execution_count": 28,
   "metadata": {},
   "outputs": [
    {
     "data": {
      "text/html": [
       "<div>\n",
       "<style scoped>\n",
       "    .dataframe tbody tr th:only-of-type {\n",
       "        vertical-align: middle;\n",
       "    }\n",
       "\n",
       "    .dataframe tbody tr th {\n",
       "        vertical-align: top;\n",
       "    }\n",
       "\n",
       "    .dataframe thead th {\n",
       "        text-align: right;\n",
       "    }\n",
       "</style>\n",
       "<table border=\"1\" class=\"dataframe\">\n",
       "  <thead>\n",
       "    <tr style=\"text-align: right;\">\n",
       "      <th></th>\n",
       "      <th>name</th>\n",
       "      <th>four_regions</th>\n",
       "      <th>eight_regions</th>\n",
       "    </tr>\n",
       "  </thead>\n",
       "  <tbody>\n",
       "    <tr>\n",
       "      <th>0</th>\n",
       "      <td>Australia</td>\n",
       "      <td>asia</td>\n",
       "      <td>east_asia_pacific</td>\n",
       "    </tr>\n",
       "    <tr>\n",
       "      <th>1</th>\n",
       "      <td>Brunei</td>\n",
       "      <td>asia</td>\n",
       "      <td>east_asia_pacific</td>\n",
       "    </tr>\n",
       "    <tr>\n",
       "      <th>2</th>\n",
       "      <td>Cambodia</td>\n",
       "      <td>asia</td>\n",
       "      <td>east_asia_pacific</td>\n",
       "    </tr>\n",
       "    <tr>\n",
       "      <th>3</th>\n",
       "      <td>China</td>\n",
       "      <td>asia</td>\n",
       "      <td>east_asia_pacific</td>\n",
       "    </tr>\n",
       "    <tr>\n",
       "      <th>4</th>\n",
       "      <td>Fiji</td>\n",
       "      <td>asia</td>\n",
       "      <td>east_asia_pacific</td>\n",
       "    </tr>\n",
       "  </tbody>\n",
       "</table>\n",
       "</div>"
      ],
      "text/plain": [
       "        name four_regions      eight_regions\n",
       "0  Australia         asia  east_asia_pacific\n",
       "1     Brunei         asia  east_asia_pacific\n",
       "2   Cambodia         asia  east_asia_pacific\n",
       "3      China         asia  east_asia_pacific\n",
       "4       Fiji         asia  east_asia_pacific"
      ]
     },
     "execution_count": 28,
     "metadata": {},
     "output_type": "execute_result"
    }
   ],
   "source": [
    "# Update the regions dataframe by selecting only specific columns.\n",
    "df_region = df_region.loc[:, ['name', 'four_regions', 'eight_regions']]\n",
    "df_region.head()"
   ]
  },
  {
   "cell_type": "code",
   "execution_count": 29,
   "metadata": {},
   "outputs": [
    {
     "data": {
      "text/html": [
       "<div>\n",
       "<style scoped>\n",
       "    .dataframe tbody tr th:only-of-type {\n",
       "        vertical-align: middle;\n",
       "    }\n",
       "\n",
       "    .dataframe tbody tr th {\n",
       "        vertical-align: top;\n",
       "    }\n",
       "\n",
       "    .dataframe thead th {\n",
       "        text-align: right;\n",
       "    }\n",
       "</style>\n",
       "<table border=\"1\" class=\"dataframe\">\n",
       "  <thead>\n",
       "    <tr style=\"text-align: right;\">\n",
       "      <th></th>\n",
       "      <th>country</th>\n",
       "      <th>year</th>\n",
       "      <th>income</th>\n",
       "      <th>child_mortality</th>\n",
       "      <th>child_fertility</th>\n",
       "      <th>life_expectancy</th>\n",
       "      <th>four_regions</th>\n",
       "      <th>eight_regions</th>\n",
       "    </tr>\n",
       "  </thead>\n",
       "  <tbody>\n",
       "    <tr>\n",
       "      <th>0</th>\n",
       "      <td>Afghanistan</td>\n",
       "      <td>1950</td>\n",
       "      <td>2390.0</td>\n",
       "      <td>416.0</td>\n",
       "      <td>7.57</td>\n",
       "      <td>32.5</td>\n",
       "      <td>asia</td>\n",
       "      <td>asia_west</td>\n",
       "    </tr>\n",
       "    <tr>\n",
       "      <th>1</th>\n",
       "      <td>Albania</td>\n",
       "      <td>1950</td>\n",
       "      <td>1780.0</td>\n",
       "      <td>280.0</td>\n",
       "      <td>5.87</td>\n",
       "      <td>54.1</td>\n",
       "      <td>europe</td>\n",
       "      <td>europe_east</td>\n",
       "    </tr>\n",
       "    <tr>\n",
       "      <th>2</th>\n",
       "      <td>Algeria</td>\n",
       "      <td>1950</td>\n",
       "      <td>4640.0</td>\n",
       "      <td>258.0</td>\n",
       "      <td>7.49</td>\n",
       "      <td>47.3</td>\n",
       "      <td>africa</td>\n",
       "      <td>africa_north</td>\n",
       "    </tr>\n",
       "    <tr>\n",
       "      <th>3</th>\n",
       "      <td>Angola</td>\n",
       "      <td>1950</td>\n",
       "      <td>3180.0</td>\n",
       "      <td>331.0</td>\n",
       "      <td>7.11</td>\n",
       "      <td>35.2</td>\n",
       "      <td>africa</td>\n",
       "      <td>africa_sub_saharan</td>\n",
       "    </tr>\n",
       "    <tr>\n",
       "      <th>4</th>\n",
       "      <td>Antigua and Barbuda</td>\n",
       "      <td>1950</td>\n",
       "      <td>3470.0</td>\n",
       "      <td>128.0</td>\n",
       "      <td>4.45</td>\n",
       "      <td>58.5</td>\n",
       "      <td>americas</td>\n",
       "      <td>america_north</td>\n",
       "    </tr>\n",
       "  </tbody>\n",
       "</table>\n",
       "</div>"
      ],
      "text/plain": [
       "               country  year  income  child_mortality  child_fertility  \\\n",
       "0          Afghanistan  1950  2390.0            416.0             7.57   \n",
       "1              Albania  1950  1780.0            280.0             5.87   \n",
       "2              Algeria  1950  4640.0            258.0             7.49   \n",
       "3               Angola  1950  3180.0            331.0             7.11   \n",
       "4  Antigua and Barbuda  1950  3470.0            128.0             4.45   \n",
       "\n",
       "   life_expectancy four_regions       eight_regions  \n",
       "0             32.5         asia           asia_west  \n",
       "1             54.1       europe         europe_east  \n",
       "2             47.3       africa        africa_north  \n",
       "3             35.2       africa  africa_sub_saharan  \n",
       "4             58.5     americas       america_north  "
      ]
     },
     "execution_count": 29,
     "metadata": {},
     "output_type": "execute_result"
    }
   ],
   "source": [
    "# Merge the regions dataframe with the main dataframe\n",
    "df = pd.merge(df, df_region, how='left', left_on='country', right_on='name').drop('name', axis=1)\n",
    "df.head()"
   ]
  },
  {
   "cell_type": "code",
   "execution_count": 30,
   "metadata": {},
   "outputs": [
    {
     "name": "stdout",
     "output_type": "stream",
     "text": [
      "<class 'pandas.core.frame.DataFrame'>\n",
      "Int64Index: 12880 entries, 0 to 12879\n",
      "Data columns (total 8 columns):\n",
      "country            12880 non-null object\n",
      "year               12880 non-null int64\n",
      "income             12880 non-null float64\n",
      "child_mortality    12880 non-null float64\n",
      "child_fertility    12880 non-null float64\n",
      "life_expectancy    12880 non-null float64\n",
      "four_regions       12880 non-null object\n",
      "eight_regions      12880 non-null object\n",
      "dtypes: float64(4), int64(1), object(3)\n",
      "memory usage: 905.6+ KB\n"
     ]
    }
   ],
   "source": [
    "df.info()"
   ]
  },
  {
   "cell_type": "markdown",
   "metadata": {},
   "source": [
    "**Perfect!** Everything is well. Let us save the final dataframe into a **csv** file."
   ]
  },
  {
   "cell_type": "code",
   "execution_count": 31,
   "metadata": {},
   "outputs": [],
   "source": [
    "df.to_csv('world_data_final.csv', index=False)"
   ]
  },
  {
   "cell_type": "markdown",
   "metadata": {},
   "source": [
    "<a id='eda'></a>\n",
    "## Exploratory Data Analysis\n",
    "\n",
    "\n",
    "We first load our cleaned version of the Gapminder data that we have saved previously in '*world_data_final.csv*'. We convert *year* column this time, so we can aggregate data using Pandas *groupby* and *agg*."
   ]
  },
  {
   "cell_type": "code",
   "execution_count": 32,
   "metadata": {},
   "outputs": [
    {
     "data": {
      "text/html": [
       "<div>\n",
       "<style scoped>\n",
       "    .dataframe tbody tr th:only-of-type {\n",
       "        vertical-align: middle;\n",
       "    }\n",
       "\n",
       "    .dataframe tbody tr th {\n",
       "        vertical-align: top;\n",
       "    }\n",
       "\n",
       "    .dataframe thead th {\n",
       "        text-align: right;\n",
       "    }\n",
       "</style>\n",
       "<table border=\"1\" class=\"dataframe\">\n",
       "  <thead>\n",
       "    <tr style=\"text-align: right;\">\n",
       "      <th></th>\n",
       "      <th>country</th>\n",
       "      <th>year</th>\n",
       "      <th>income</th>\n",
       "      <th>child_mortality</th>\n",
       "      <th>child_fertility</th>\n",
       "      <th>life_expectancy</th>\n",
       "      <th>four_regions</th>\n",
       "      <th>eight_regions</th>\n",
       "    </tr>\n",
       "  </thead>\n",
       "  <tbody>\n",
       "    <tr>\n",
       "      <th>0</th>\n",
       "      <td>Afghanistan</td>\n",
       "      <td>1950-01-01</td>\n",
       "      <td>2390.0</td>\n",
       "      <td>416.0</td>\n",
       "      <td>7.57</td>\n",
       "      <td>32.5</td>\n",
       "      <td>asia</td>\n",
       "      <td>asia_west</td>\n",
       "    </tr>\n",
       "    <tr>\n",
       "      <th>1</th>\n",
       "      <td>Albania</td>\n",
       "      <td>1950-01-01</td>\n",
       "      <td>1780.0</td>\n",
       "      <td>280.0</td>\n",
       "      <td>5.87</td>\n",
       "      <td>54.1</td>\n",
       "      <td>europe</td>\n",
       "      <td>europe_east</td>\n",
       "    </tr>\n",
       "    <tr>\n",
       "      <th>2</th>\n",
       "      <td>Algeria</td>\n",
       "      <td>1950-01-01</td>\n",
       "      <td>4640.0</td>\n",
       "      <td>258.0</td>\n",
       "      <td>7.49</td>\n",
       "      <td>47.3</td>\n",
       "      <td>africa</td>\n",
       "      <td>africa_north</td>\n",
       "    </tr>\n",
       "    <tr>\n",
       "      <th>3</th>\n",
       "      <td>Angola</td>\n",
       "      <td>1950-01-01</td>\n",
       "      <td>3180.0</td>\n",
       "      <td>331.0</td>\n",
       "      <td>7.11</td>\n",
       "      <td>35.2</td>\n",
       "      <td>africa</td>\n",
       "      <td>africa_sub_saharan</td>\n",
       "    </tr>\n",
       "    <tr>\n",
       "      <th>4</th>\n",
       "      <td>Antigua and Barbuda</td>\n",
       "      <td>1950-01-01</td>\n",
       "      <td>3470.0</td>\n",
       "      <td>128.0</td>\n",
       "      <td>4.45</td>\n",
       "      <td>58.5</td>\n",
       "      <td>americas</td>\n",
       "      <td>america_north</td>\n",
       "    </tr>\n",
       "  </tbody>\n",
       "</table>\n",
       "</div>"
      ],
      "text/plain": [
       "               country       year  income  child_mortality  child_fertility  \\\n",
       "0          Afghanistan 1950-01-01  2390.0            416.0             7.57   \n",
       "1              Albania 1950-01-01  1780.0            280.0             5.87   \n",
       "2              Algeria 1950-01-01  4640.0            258.0             7.49   \n",
       "3               Angola 1950-01-01  3180.0            331.0             7.11   \n",
       "4  Antigua and Barbuda 1950-01-01  3470.0            128.0             4.45   \n",
       "\n",
       "   life_expectancy four_regions       eight_regions  \n",
       "0             32.5         asia           asia_west  \n",
       "1             54.1       europe         europe_east  \n",
       "2             47.3       africa        africa_north  \n",
       "3             35.2       africa  africa_sub_saharan  \n",
       "4             58.5     americas       america_north  "
      ]
     },
     "execution_count": 32,
     "metadata": {},
     "output_type": "execute_result"
    }
   ],
   "source": [
    "# load the final version of gapminder data\n",
    "df = pd.read_csv('world_data_final.csv', parse_dates=['year'])\n",
    "df.head()"
   ]
  },
  {
   "cell_type": "code",
   "execution_count": 33,
   "metadata": {},
   "outputs": [
    {
     "name": "stdout",
     "output_type": "stream",
     "text": [
      "<class 'pandas.core.frame.DataFrame'>\n",
      "RangeIndex: 12880 entries, 0 to 12879\n",
      "Data columns (total 8 columns):\n",
      "country            12880 non-null object\n",
      "year               12880 non-null datetime64[ns]\n",
      "income             12880 non-null float64\n",
      "child_mortality    12880 non-null float64\n",
      "child_fertility    12880 non-null float64\n",
      "life_expectancy    12880 non-null float64\n",
      "four_regions       12880 non-null object\n",
      "eight_regions      12880 non-null object\n",
      "dtypes: datetime64[ns](1), float64(4), object(3)\n",
      "memory usage: 805.1+ KB\n"
     ]
    }
   ],
   "source": [
    "df.info()"
   ]
  },
  {
   "cell_type": "markdown",
   "metadata": {},
   "source": [
    "Now, because we want to do EDA according to the regions with repect to years, it is hard to plot data with such a huge number of values for **x_axis**. Thus we decided to aggregate data for every **10** consectutive years (decade).\n",
    "\n",
    "We have two options for the regions; four or eight. We choose the former one. So our data will be grouped and aggregated for each of the four regions (Africa, Asia, Americas, and Europe continents). Thus, our data will be grouped in *seven decades* for each region:\n",
    "\n",
    "<ul>\n",
    "    <li>1950-1959</li>\n",
    "    <li>1960-1969</li>\n",
    "    <li>1970-1979</li>\n",
    "    <li>1980-1989</li>\n",
    "    <li>1990-1999</li>\n",
    "    <li>2000-2009</li>\n",
    "    <li>2010-2019</li>\n",
    "</ul>"
   ]
  },
  {
   "cell_type": "code",
   "execution_count": 34,
   "metadata": {},
   "outputs": [],
   "source": [
    "# grouping data and named aggregation on all columns\n",
    "\n",
    "df_four_regions = df.groupby(['four_regions', pd.Grouper(key='year', freq='10AS')]).agg(\n",
    "        {\n",
    "            'income': ['mean'],\n",
    "            'child_mortality': 'mean',\n",
    "            'child_fertility': 'mean',\n",
    "            'life_expectancy': 'mean'\n",
    "        }\n",
    ")"
   ]
  },
  {
   "cell_type": "code",
   "execution_count": 35,
   "metadata": {},
   "outputs": [
    {
     "name": "stdout",
     "output_type": "stream",
     "text": [
      "<class 'pandas.core.frame.DataFrame'>\n",
      "MultiIndex: 28 entries, (africa, 1950-01-01 00:00:00) to (europe, 2010-01-01 00:00:00)\n",
      "Data columns (total 4 columns):\n",
      "(income, mean)             28 non-null float64\n",
      "(child_mortality, mean)    28 non-null float64\n",
      "(child_fertility, mean)    28 non-null float64\n",
      "(life_expectancy, mean)    28 non-null float64\n",
      "dtypes: float64(4)\n",
      "memory usage: 1.2+ KB\n"
     ]
    }
   ],
   "source": [
    "df_four_regions.info()"
   ]
  },
  {
   "cell_type": "code",
   "execution_count": 36,
   "metadata": {},
   "outputs": [
    {
     "data": {
      "text/html": [
       "<div>\n",
       "<style scoped>\n",
       "    .dataframe tbody tr th:only-of-type {\n",
       "        vertical-align: middle;\n",
       "    }\n",
       "\n",
       "    .dataframe tbody tr th {\n",
       "        vertical-align: top;\n",
       "    }\n",
       "\n",
       "    .dataframe thead tr th {\n",
       "        text-align: left;\n",
       "    }\n",
       "\n",
       "    .dataframe thead tr:last-of-type th {\n",
       "        text-align: right;\n",
       "    }\n",
       "</style>\n",
       "<table border=\"1\" class=\"dataframe\">\n",
       "  <thead>\n",
       "    <tr>\n",
       "      <th></th>\n",
       "      <th></th>\n",
       "      <th>income</th>\n",
       "      <th>child_mortality</th>\n",
       "      <th>child_fertility</th>\n",
       "      <th>life_expectancy</th>\n",
       "    </tr>\n",
       "    <tr>\n",
       "      <th></th>\n",
       "      <th></th>\n",
       "      <th>mean</th>\n",
       "      <th>mean</th>\n",
       "      <th>mean</th>\n",
       "      <th>mean</th>\n",
       "    </tr>\n",
       "    <tr>\n",
       "      <th>four_regions</th>\n",
       "      <th>year</th>\n",
       "      <th></th>\n",
       "      <th></th>\n",
       "      <th></th>\n",
       "      <th></th>\n",
       "    </tr>\n",
       "  </thead>\n",
       "  <tbody>\n",
       "    <tr>\n",
       "      <th rowspan=\"5\" valign=\"top\">africa</th>\n",
       "      <th>1950-01-01</th>\n",
       "      <td>1836.009259</td>\n",
       "      <td>284.638889</td>\n",
       "      <td>6.488907</td>\n",
       "      <td>43.141296</td>\n",
       "    </tr>\n",
       "    <tr>\n",
       "      <th>1960-01-01</th>\n",
       "      <td>2559.150000</td>\n",
       "      <td>242.213704</td>\n",
       "      <td>6.694259</td>\n",
       "      <td>48.269259</td>\n",
       "    </tr>\n",
       "    <tr>\n",
       "      <th>1970-01-01</th>\n",
       "      <td>3588.387037</td>\n",
       "      <td>201.792593</td>\n",
       "      <td>6.699593</td>\n",
       "      <td>52.829259</td>\n",
       "    </tr>\n",
       "    <tr>\n",
       "      <th>1980-01-01</th>\n",
       "      <td>3648.101852</td>\n",
       "      <td>162.686852</td>\n",
       "      <td>6.340907</td>\n",
       "      <td>55.900000</td>\n",
       "    </tr>\n",
       "    <tr>\n",
       "      <th>1990-01-01</th>\n",
       "      <td>3723.772222</td>\n",
       "      <td>140.272593</td>\n",
       "      <td>5.610296</td>\n",
       "      <td>56.461000</td>\n",
       "    </tr>\n",
       "  </tbody>\n",
       "</table>\n",
       "</div>"
      ],
      "text/plain": [
       "                              income child_mortality child_fertility  \\\n",
       "                                mean            mean            mean   \n",
       "four_regions year                                                      \n",
       "africa       1950-01-01  1836.009259      284.638889        6.488907   \n",
       "             1960-01-01  2559.150000      242.213704        6.694259   \n",
       "             1970-01-01  3588.387037      201.792593        6.699593   \n",
       "             1980-01-01  3648.101852      162.686852        6.340907   \n",
       "             1990-01-01  3723.772222      140.272593        5.610296   \n",
       "\n",
       "                        life_expectancy  \n",
       "                                   mean  \n",
       "four_regions year                        \n",
       "africa       1950-01-01       43.141296  \n",
       "             1960-01-01       48.269259  \n",
       "             1970-01-01       52.829259  \n",
       "             1980-01-01       55.900000  \n",
       "             1990-01-01       56.461000  "
      ]
     },
     "execution_count": 36,
     "metadata": {},
     "output_type": "execute_result"
    }
   ],
   "source": [
    "df_four_regions.head()"
   ]
  },
  {
   "cell_type": "code",
   "execution_count": 37,
   "metadata": {},
   "outputs": [],
   "source": [
    "# rename column names\n",
    "df_four_regions.columns = ['income', 'child_mortality', 'child_fertility', 'life_expectancy']"
   ]
  },
  {
   "cell_type": "code",
   "execution_count": 38,
   "metadata": {},
   "outputs": [
    {
     "name": "stdout",
     "output_type": "stream",
     "text": [
      "<class 'pandas.core.frame.DataFrame'>\n",
      "MultiIndex: 28 entries, (africa, 1950-01-01 00:00:00) to (europe, 2010-01-01 00:00:00)\n",
      "Data columns (total 4 columns):\n",
      "income             28 non-null float64\n",
      "child_mortality    28 non-null float64\n",
      "child_fertility    28 non-null float64\n",
      "life_expectancy    28 non-null float64\n",
      "dtypes: float64(4)\n",
      "memory usage: 1.2+ KB\n"
     ]
    }
   ],
   "source": [
    "df_four_regions.info()"
   ]
  },
  {
   "cell_type": "code",
   "execution_count": 39,
   "metadata": {},
   "outputs": [
    {
     "data": {
      "text/plain": [
       "(28, 4)"
      ]
     },
     "execution_count": 39,
     "metadata": {},
     "output_type": "execute_result"
    }
   ],
   "source": [
    "df_four_regions.shape"
   ]
  },
  {
   "cell_type": "markdown",
   "metadata": {},
   "source": [
    "So we are left with only **28** rows, **7** for each continent, and one per decade."
   ]
  },
  {
   "cell_type": "markdown",
   "metadata": {},
   "source": [
    "### Question 1\n",
    "\n",
    "#### Does the life expectancy average for the different regions depend on income, child mortality, or child fertility?"
   ]
  },
  {
   "cell_type": "code",
   "execution_count": 40,
   "metadata": {},
   "outputs": [
    {
     "data": {
      "image/png": "[encoded data removed]",
      "text/plain": [
       "<matplotlib.figure.Figure at 0x7f623c5a6dd8>"
      ]
     },
     "metadata": {
      "needs_background": "light"
     },
     "output_type": "display_data"
    }
   ],
   "source": [
    "# plot the correlation map of all features\n",
    "plt.figure(figsize=(9,7))\n",
    "ax = sns.heatmap(df_four_regions.corr(), annot=True, linewidths=0.5)\n",
    "ax.set_title('The correlation map beween Income, Child Mortality, Child Fertility, and Life Expectancy indicators');"
   ]
  },
  {
   "cell_type": "markdown",
   "metadata": {},
   "source": [
    "It is clear from the correlation map, there is a poitive correlation between income and life expectancy, whereas there is a negative correlation between both (child mortality and fertility) and life expectancy. Next, we do scatter plots to visualize these correlations."
   ]
  },
  {
   "cell_type": "code",
   "execution_count": 41,
   "metadata": {},
   "outputs": [],
   "source": [
    "def plot_regplot(x, y, plot_style, plot_title):\n",
    "    sns.set_style(plot_style)\n",
    "    ax = sns.regplot(x=x, y=y, fit_reg=False)\n",
    "    ax.set_title(plot_title);\n",
    "    "
   ]
  },
  {
   "cell_type": "code",
   "execution_count": 42,
   "metadata": {},
   "outputs": [
    {
     "data": {
      "image/png": "[encoded data removed]",
      "text/plain": [
       "<matplotlib.figure.Figure at 0x7f623a25cc88>"
      ]
     },
     "metadata": {},
     "output_type": "display_data"
    }
   ],
   "source": [
    "plot_regplot(df_four_regions[\"income\"], df_four_regions[\"life_expectancy\"], 'darkgrid', 'The correlation beween Income and Life Expectancy indicators with respect to decades for all continents')"
   ]
  },
  {
   "cell_type": "code",
   "execution_count": 43,
   "metadata": {},
   "outputs": [
    {
     "data": {
      "image/png": "[encoded data removed]",
      "text/plain": [
       "<matplotlib.figure.Figure at 0x7f623a2044a8>"
      ]
     },
     "metadata": {},
     "output_type": "display_data"
    }
   ],
   "source": [
    "plot_regplot(df_four_regions[\"child_mortality\"], df_four_regions[\"life_expectancy\"], 'darkgrid', 'The correlation beween Child Mortality and Life Expectancy indicators with respect to decades for all continents')"
   ]
  },
  {
   "cell_type": "code",
   "execution_count": 44,
   "metadata": {},
   "outputs": [
    {
     "data": {
      "image/png": "[encoded data removed]",
      "text/plain": [
       "<matplotlib.figure.Figure at 0x7f623a176c18>"
      ]
     },
     "metadata": {},
     "output_type": "display_data"
    }
   ],
   "source": [
    "plot_regplot(df_four_regions[\"child_fertility\"], df_four_regions[\"life_expectancy\"], 'darkgrid', 'The correlation beween Child Fertility and Life Expectancy indicators with respect to decades for all continents')"
   ]
  },
  {
   "cell_type": "markdown",
   "metadata": {},
   "source": [
    "So we can say in general, there is a clear trend in the globe, such that when the income increases or the child mortality and fertility decreases, then the life expectancy increases for better.\n",
    "\n",
    "Now, we want to look at this trend for each region. To do so, we first create a separate dataframe for each region to simplify the plotting process."
   ]
  },
  {
   "cell_type": "code",
   "execution_count": 45,
   "metadata": {},
   "outputs": [
    {
     "data": {
      "text/html": [
       "<div>\n",
       "<style scoped>\n",
       "    .dataframe tbody tr th:only-of-type {\n",
       "        vertical-align: middle;\n",
       "    }\n",
       "\n",
       "    .dataframe tbody tr th {\n",
       "        vertical-align: top;\n",
       "    }\n",
       "\n",
       "    .dataframe thead th {\n",
       "        text-align: right;\n",
       "    }\n",
       "</style>\n",
       "<table border=\"1\" class=\"dataframe\">\n",
       "  <thead>\n",
       "    <tr style=\"text-align: right;\">\n",
       "      <th></th>\n",
       "      <th></th>\n",
       "      <th>income</th>\n",
       "      <th>child_mortality</th>\n",
       "      <th>child_fertility</th>\n",
       "      <th>life_expectancy</th>\n",
       "    </tr>\n",
       "    <tr>\n",
       "      <th>four_regions</th>\n",
       "      <th>year</th>\n",
       "      <th></th>\n",
       "      <th></th>\n",
       "      <th></th>\n",
       "      <th></th>\n",
       "    </tr>\n",
       "  </thead>\n",
       "  <tbody>\n",
       "    <tr>\n",
       "      <th rowspan=\"7\" valign=\"top\">africa</th>\n",
       "      <th>1950-01-01</th>\n",
       "      <td>1836.009259</td>\n",
       "      <td>284.638889</td>\n",
       "      <td>6.488907</td>\n",
       "      <td>43.141296</td>\n",
       "    </tr>\n",
       "    <tr>\n",
       "      <th>1960-01-01</th>\n",
       "      <td>2559.150000</td>\n",
       "      <td>242.213704</td>\n",
       "      <td>6.694259</td>\n",
       "      <td>48.269259</td>\n",
       "    </tr>\n",
       "    <tr>\n",
       "      <th>1970-01-01</th>\n",
       "      <td>3588.387037</td>\n",
       "      <td>201.792593</td>\n",
       "      <td>6.699593</td>\n",
       "      <td>52.829259</td>\n",
       "    </tr>\n",
       "    <tr>\n",
       "      <th>1980-01-01</th>\n",
       "      <td>3648.101852</td>\n",
       "      <td>162.686852</td>\n",
       "      <td>6.340907</td>\n",
       "      <td>55.900000</td>\n",
       "    </tr>\n",
       "    <tr>\n",
       "      <th>1990-01-01</th>\n",
       "      <td>3723.772222</td>\n",
       "      <td>140.272593</td>\n",
       "      <td>5.610296</td>\n",
       "      <td>56.461000</td>\n",
       "    </tr>\n",
       "    <tr>\n",
       "      <th>2000-01-01</th>\n",
       "      <td>4717.694444</td>\n",
       "      <td>106.374630</td>\n",
       "      <td>4.969537</td>\n",
       "      <td>58.278519</td>\n",
       "    </tr>\n",
       "    <tr>\n",
       "      <th>2010-01-01</th>\n",
       "      <td>5436.257407</td>\n",
       "      <td>69.960926</td>\n",
       "      <td>4.402463</td>\n",
       "      <td>63.856481</td>\n",
       "    </tr>\n",
       "  </tbody>\n",
       "</table>\n",
       "</div>"
      ],
      "text/plain": [
       "                              income  child_mortality  child_fertility  \\\n",
       "four_regions year                                                        \n",
       "africa       1950-01-01  1836.009259       284.638889         6.488907   \n",
       "             1960-01-01  2559.150000       242.213704         6.694259   \n",
       "             1970-01-01  3588.387037       201.792593         6.699593   \n",
       "             1980-01-01  3648.101852       162.686852         6.340907   \n",
       "             1990-01-01  3723.772222       140.272593         5.610296   \n",
       "             2000-01-01  4717.694444       106.374630         4.969537   \n",
       "             2010-01-01  5436.257407        69.960926         4.402463   \n",
       "\n",
       "                         life_expectancy  \n",
       "four_regions year                         \n",
       "africa       1950-01-01        43.141296  \n",
       "             1960-01-01        48.269259  \n",
       "             1970-01-01        52.829259  \n",
       "             1980-01-01        55.900000  \n",
       "             1990-01-01        56.461000  \n",
       "             2000-01-01        58.278519  \n",
       "             2010-01-01        63.856481  "
      ]
     },
     "execution_count": 45,
     "metadata": {},
     "output_type": "execute_result"
    }
   ],
   "source": [
    "df_africa = df_four_regions.query('four_regions == \"africa\"')\n",
    "df_africa"
   ]
  },
  {
   "cell_type": "code",
   "execution_count": 46,
   "metadata": {},
   "outputs": [
    {
     "data": {
      "text/html": [
       "<div>\n",
       "<style scoped>\n",
       "    .dataframe tbody tr th:only-of-type {\n",
       "        vertical-align: middle;\n",
       "    }\n",
       "\n",
       "    .dataframe tbody tr th {\n",
       "        vertical-align: top;\n",
       "    }\n",
       "\n",
       "    .dataframe thead th {\n",
       "        text-align: right;\n",
       "    }\n",
       "</style>\n",
       "<table border=\"1\" class=\"dataframe\">\n",
       "  <thead>\n",
       "    <tr style=\"text-align: right;\">\n",
       "      <th></th>\n",
       "      <th></th>\n",
       "      <th>income</th>\n",
       "      <th>child_mortality</th>\n",
       "      <th>child_fertility</th>\n",
       "      <th>life_expectancy</th>\n",
       "    </tr>\n",
       "    <tr>\n",
       "      <th>four_regions</th>\n",
       "      <th>year</th>\n",
       "      <th></th>\n",
       "      <th></th>\n",
       "      <th></th>\n",
       "      <th></th>\n",
       "    </tr>\n",
       "  </thead>\n",
       "  <tbody>\n",
       "    <tr>\n",
       "      <th rowspan=\"7\" valign=\"top\">asia</th>\n",
       "      <th>1950-01-01</th>\n",
       "      <td>5121.047170</td>\n",
       "      <td>214.138679</td>\n",
       "      <td>6.207264</td>\n",
       "      <td>49.354717</td>\n",
       "    </tr>\n",
       "    <tr>\n",
       "      <th>1960-01-01</th>\n",
       "      <td>8658.505660</td>\n",
       "      <td>158.989434</td>\n",
       "      <td>6.197057</td>\n",
       "      <td>55.526604</td>\n",
       "    </tr>\n",
       "    <tr>\n",
       "      <th>1970-01-01</th>\n",
       "      <td>16535.709434</td>\n",
       "      <td>114.783962</td>\n",
       "      <td>5.598075</td>\n",
       "      <td>60.487170</td>\n",
       "    </tr>\n",
       "    <tr>\n",
       "      <th>1980-01-01</th>\n",
       "      <td>15079.694340</td>\n",
       "      <td>78.408000</td>\n",
       "      <td>4.838226</td>\n",
       "      <td>64.471132</td>\n",
       "    </tr>\n",
       "    <tr>\n",
       "      <th>1990-01-01</th>\n",
       "      <td>15069.139623</td>\n",
       "      <td>55.615208</td>\n",
       "      <td>3.869717</td>\n",
       "      <td>67.500000</td>\n",
       "    </tr>\n",
       "    <tr>\n",
       "      <th>2000-01-01</th>\n",
       "      <td>17694.288679</td>\n",
       "      <td>37.419849</td>\n",
       "      <td>3.076906</td>\n",
       "      <td>70.140755</td>\n",
       "    </tr>\n",
       "    <tr>\n",
       "      <th>2010-01-01</th>\n",
       "      <td>19435.924528</td>\n",
       "      <td>25.220132</td>\n",
       "      <td>2.701283</td>\n",
       "      <td>72.945472</td>\n",
       "    </tr>\n",
       "  </tbody>\n",
       "</table>\n",
       "</div>"
      ],
      "text/plain": [
       "                               income  child_mortality  child_fertility  \\\n",
       "four_regions year                                                         \n",
       "asia         1950-01-01   5121.047170       214.138679         6.207264   \n",
       "             1960-01-01   8658.505660       158.989434         6.197057   \n",
       "             1970-01-01  16535.709434       114.783962         5.598075   \n",
       "             1980-01-01  15079.694340        78.408000         4.838226   \n",
       "             1990-01-01  15069.139623        55.615208         3.869717   \n",
       "             2000-01-01  17694.288679        37.419849         3.076906   \n",
       "             2010-01-01  19435.924528        25.220132         2.701283   \n",
       "\n",
       "                         life_expectancy  \n",
       "four_regions year                         \n",
       "asia         1950-01-01        49.354717  \n",
       "             1960-01-01        55.526604  \n",
       "             1970-01-01        60.487170  \n",
       "             1980-01-01        64.471132  \n",
       "             1990-01-01        67.500000  \n",
       "             2000-01-01        70.140755  \n",
       "             2010-01-01        72.945472  "
      ]
     },
     "execution_count": 46,
     "metadata": {},
     "output_type": "execute_result"
    }
   ],
   "source": [
    "df_asia = df_four_regions.query('four_regions == \"asia\"')\n",
    "df_asia"
   ]
  },
  {
   "cell_type": "code",
   "execution_count": 47,
   "metadata": {},
   "outputs": [
    {
     "data": {
      "text/html": [
       "<div>\n",
       "<style scoped>\n",
       "    .dataframe tbody tr th:only-of-type {\n",
       "        vertical-align: middle;\n",
       "    }\n",
       "\n",
       "    .dataframe tbody tr th {\n",
       "        vertical-align: top;\n",
       "    }\n",
       "\n",
       "    .dataframe thead th {\n",
       "        text-align: right;\n",
       "    }\n",
       "</style>\n",
       "<table border=\"1\" class=\"dataframe\">\n",
       "  <thead>\n",
       "    <tr style=\"text-align: right;\">\n",
       "      <th></th>\n",
       "      <th></th>\n",
       "      <th>income</th>\n",
       "      <th>child_mortality</th>\n",
       "      <th>child_fertility</th>\n",
       "      <th>life_expectancy</th>\n",
       "    </tr>\n",
       "    <tr>\n",
       "      <th>four_regions</th>\n",
       "      <th>year</th>\n",
       "      <th></th>\n",
       "      <th></th>\n",
       "      <th></th>\n",
       "      <th></th>\n",
       "    </tr>\n",
       "  </thead>\n",
       "  <tbody>\n",
       "    <tr>\n",
       "      <th rowspan=\"7\" valign=\"top\">americas</th>\n",
       "      <th>1950-01-01</th>\n",
       "      <td>5062.727273</td>\n",
       "      <td>149.842727</td>\n",
       "      <td>5.811697</td>\n",
       "      <td>56.088788</td>\n",
       "    </tr>\n",
       "    <tr>\n",
       "      <th>1960-01-01</th>\n",
       "      <td>6489.181818</td>\n",
       "      <td>111.224848</td>\n",
       "      <td>5.630061</td>\n",
       "      <td>61.224848</td>\n",
       "    </tr>\n",
       "    <tr>\n",
       "      <th>1970-01-01</th>\n",
       "      <td>8356.090909</td>\n",
       "      <td>82.143636</td>\n",
       "      <td>4.606212</td>\n",
       "      <td>65.710303</td>\n",
       "    </tr>\n",
       "    <tr>\n",
       "      <th>1980-01-01</th>\n",
       "      <td>9610.787879</td>\n",
       "      <td>54.745697</td>\n",
       "      <td>3.723485</td>\n",
       "      <td>69.277879</td>\n",
       "    </tr>\n",
       "    <tr>\n",
       "      <th>1990-01-01</th>\n",
       "      <td>10858.454545</td>\n",
       "      <td>36.579485</td>\n",
       "      <td>3.066212</td>\n",
       "      <td>71.623333</td>\n",
       "    </tr>\n",
       "    <tr>\n",
       "      <th>2000-01-01</th>\n",
       "      <td>13176.727273</td>\n",
       "      <td>24.877727</td>\n",
       "      <td>2.514909</td>\n",
       "      <td>73.873030</td>\n",
       "    </tr>\n",
       "    <tr>\n",
       "      <th>2010-01-01</th>\n",
       "      <td>15308.818182</td>\n",
       "      <td>18.757364</td>\n",
       "      <td>2.196758</td>\n",
       "      <td>75.260303</td>\n",
       "    </tr>\n",
       "  </tbody>\n",
       "</table>\n",
       "</div>"
      ],
      "text/plain": [
       "                               income  child_mortality  child_fertility  \\\n",
       "four_regions year                                                         \n",
       "americas     1950-01-01   5062.727273       149.842727         5.811697   \n",
       "             1960-01-01   6489.181818       111.224848         5.630061   \n",
       "             1970-01-01   8356.090909        82.143636         4.606212   \n",
       "             1980-01-01   9610.787879        54.745697         3.723485   \n",
       "             1990-01-01  10858.454545        36.579485         3.066212   \n",
       "             2000-01-01  13176.727273        24.877727         2.514909   \n",
       "             2010-01-01  15308.818182        18.757364         2.196758   \n",
       "\n",
       "                         life_expectancy  \n",
       "four_regions year                         \n",
       "americas     1950-01-01        56.088788  \n",
       "             1960-01-01        61.224848  \n",
       "             1970-01-01        65.710303  \n",
       "             1980-01-01        69.277879  \n",
       "             1990-01-01        71.623333  \n",
       "             2000-01-01        73.873030  \n",
       "             2010-01-01        75.260303  "
      ]
     },
     "execution_count": 47,
     "metadata": {},
     "output_type": "execute_result"
    }
   ],
   "source": [
    "df_americas = df_four_regions.query('four_regions == \"americas\"')\n",
    "df_americas"
   ]
  },
  {
   "cell_type": "code",
   "execution_count": 48,
   "metadata": {},
   "outputs": [
    {
     "data": {
      "text/html": [
       "<div>\n",
       "<style scoped>\n",
       "    .dataframe tbody tr th:only-of-type {\n",
       "        vertical-align: middle;\n",
       "    }\n",
       "\n",
       "    .dataframe tbody tr th {\n",
       "        vertical-align: top;\n",
       "    }\n",
       "\n",
       "    .dataframe thead th {\n",
       "        text-align: right;\n",
       "    }\n",
       "</style>\n",
       "<table border=\"1\" class=\"dataframe\">\n",
       "  <thead>\n",
       "    <tr style=\"text-align: right;\">\n",
       "      <th></th>\n",
       "      <th></th>\n",
       "      <th>income</th>\n",
       "      <th>child_mortality</th>\n",
       "      <th>child_fertility</th>\n",
       "      <th>life_expectancy</th>\n",
       "    </tr>\n",
       "    <tr>\n",
       "      <th>four_regions</th>\n",
       "      <th>year</th>\n",
       "      <th></th>\n",
       "      <th></th>\n",
       "      <th></th>\n",
       "      <th></th>\n",
       "    </tr>\n",
       "  </thead>\n",
       "  <tbody>\n",
       "    <tr>\n",
       "      <th rowspan=\"7\" valign=\"top\">europe</th>\n",
       "      <th>1950-01-01</th>\n",
       "      <td>7001.340909</td>\n",
       "      <td>86.825682</td>\n",
       "      <td>3.141250</td>\n",
       "      <td>64.765000</td>\n",
       "    </tr>\n",
       "    <tr>\n",
       "      <th>1960-01-01</th>\n",
       "      <td>10304.431818</td>\n",
       "      <td>53.676136</td>\n",
       "      <td>2.881659</td>\n",
       "      <td>68.716364</td>\n",
       "    </tr>\n",
       "    <tr>\n",
       "      <th>1970-01-01</th>\n",
       "      <td>14987.818182</td>\n",
       "      <td>36.559023</td>\n",
       "      <td>2.387341</td>\n",
       "      <td>70.670227</td>\n",
       "    </tr>\n",
       "    <tr>\n",
       "      <th>1980-01-01</th>\n",
       "      <td>18744.181818</td>\n",
       "      <td>24.623364</td>\n",
       "      <td>2.056955</td>\n",
       "      <td>72.525000</td>\n",
       "    </tr>\n",
       "    <tr>\n",
       "      <th>1990-01-01</th>\n",
       "      <td>20321.568182</td>\n",
       "      <td>16.946705</td>\n",
       "      <td>1.731705</td>\n",
       "      <td>73.653182</td>\n",
       "    </tr>\n",
       "    <tr>\n",
       "      <th>2000-01-01</th>\n",
       "      <td>26481.886364</td>\n",
       "      <td>10.292932</td>\n",
       "      <td>1.549659</td>\n",
       "      <td>75.875682</td>\n",
       "    </tr>\n",
       "    <tr>\n",
       "      <th>2010-01-01</th>\n",
       "      <td>30406.340909</td>\n",
       "      <td>6.308841</td>\n",
       "      <td>1.619364</td>\n",
       "      <td>78.204318</td>\n",
       "    </tr>\n",
       "  </tbody>\n",
       "</table>\n",
       "</div>"
      ],
      "text/plain": [
       "                               income  child_mortality  child_fertility  \\\n",
       "four_regions year                                                         \n",
       "europe       1950-01-01   7001.340909        86.825682         3.141250   \n",
       "             1960-01-01  10304.431818        53.676136         2.881659   \n",
       "             1970-01-01  14987.818182        36.559023         2.387341   \n",
       "             1980-01-01  18744.181818        24.623364         2.056955   \n",
       "             1990-01-01  20321.568182        16.946705         1.731705   \n",
       "             2000-01-01  26481.886364        10.292932         1.549659   \n",
       "             2010-01-01  30406.340909         6.308841         1.619364   \n",
       "\n",
       "                         life_expectancy  \n",
       "four_regions year                         \n",
       "europe       1950-01-01        64.765000  \n",
       "             1960-01-01        68.716364  \n",
       "             1970-01-01        70.670227  \n",
       "             1980-01-01        72.525000  \n",
       "             1990-01-01        73.653182  \n",
       "             2000-01-01        75.875682  \n",
       "             2010-01-01        78.204318  "
      ]
     },
     "execution_count": 48,
     "metadata": {},
     "output_type": "execute_result"
    }
   ],
   "source": [
    "df_europe = df_four_regions.query('four_regions == \"europe\"')\n",
    "df_europe"
   ]
  },
  {
   "cell_type": "markdown",
   "metadata": {},
   "source": [
    "The correlation is very clear from the statistics shown above. However, let us make a plot for each independent variable."
   ]
  },
  {
   "cell_type": "code",
   "execution_count": 49,
   "metadata": {},
   "outputs": [
    {
     "data": {
      "image/png": "[encoded data removed]",
      "text/plain": [
       "<matplotlib.figure.Figure at 0x7f623cb29860>"
      ]
     },
     "metadata": {},
     "output_type": "display_data"
    },
    {
     "data": {
      "image/png": "[encoded data removed]",
      "text/plain": [
       "<matplotlib.figure.Figure at 0x7f623a028ef0>"
      ]
     },
     "metadata": {},
     "output_type": "display_data"
    },
    {
     "data": {
      "image/png": "[encoded data removed]",
      "text/plain": [
       "<matplotlib.figure.Figure at 0x7f6239fa5c50>"
      ]
     },
     "metadata": {},
     "output_type": "display_data"
    }
   ],
   "source": [
    "# pack regions dataframes in a list to be used to plot figures\n",
    "df_list = [df_africa, df_asia, df_americas, df_europe]\n",
    "\n",
    "# scatter plots labels\n",
    "region_legend = ['Africa', 'Asia', 'Americas', 'Europe']\n",
    "\n",
    "def plot_scatter(x, y, label):\n",
    "    plt.scatter(x=x, y=y, label=label);\n",
    "    \n",
    "def plot_scatter_for_four_regions(dataframes, x_label, y_label, plot_legend, plot_title):\n",
    "    for i, df in enumerate(dataframes):\n",
    "        x = df[x_label]\n",
    "        y = df[y_label]\n",
    "        label = plot_legend[i]\n",
    "        plot_scatter(x=x, y=y, label=label)\n",
    "    plt.title(plot_title)\n",
    "    plt.legend(loc='best')\n",
    "    plt.show()\n",
    "    \n",
    "plot_scatter_for_four_regions(df_list, 'income', 'life_expectancy', region_legend, 'The correlation beween Income and Life Expectancy indicators for each continent')\n",
    "plot_scatter_for_four_regions(df_list, 'child_mortality', 'life_expectancy', region_legend, 'The correlation beween Child Mortality and Life Expectancy indicators for each continent')\n",
    "plot_scatter_for_four_regions(df_list, 'child_fertility', 'life_expectancy', region_legend, 'The correlation beween Child Mortality and Life Expectancy indicators for each continent')\n"
   ]
  },
  {
   "cell_type": "markdown",
   "metadata": {},
   "source": [
    "### Question 2\n",
    "\n",
    "#### Have certain regions of the world been growing relatively better than others with respect to the Life expectancy and the other three independent variables?"
   ]
  },
  {
   "cell_type": "code",
   "execution_count": 50,
   "metadata": {},
   "outputs": [
    {
     "data": {
      "text/html": [
       "<div>\n",
       "<style scoped>\n",
       "    .dataframe tbody tr th:only-of-type {\n",
       "        vertical-align: middle;\n",
       "    }\n",
       "\n",
       "    .dataframe tbody tr th {\n",
       "        vertical-align: top;\n",
       "    }\n",
       "\n",
       "    .dataframe thead th {\n",
       "        text-align: right;\n",
       "    }\n",
       "</style>\n",
       "<table border=\"1\" class=\"dataframe\">\n",
       "  <thead>\n",
       "    <tr style=\"text-align: right;\">\n",
       "      <th></th>\n",
       "      <th></th>\n",
       "      <th>income</th>\n",
       "      <th>child_mortality</th>\n",
       "      <th>child_fertility</th>\n",
       "      <th>life_expectancy</th>\n",
       "    </tr>\n",
       "    <tr>\n",
       "      <th>four_regions</th>\n",
       "      <th>year</th>\n",
       "      <th></th>\n",
       "      <th></th>\n",
       "      <th></th>\n",
       "      <th></th>\n",
       "    </tr>\n",
       "  </thead>\n",
       "  <tbody>\n",
       "    <tr>\n",
       "      <th rowspan=\"7\" valign=\"top\">africa</th>\n",
       "      <th>1950-01-01</th>\n",
       "      <td>1836.009259</td>\n",
       "      <td>284.638889</td>\n",
       "      <td>6.488907</td>\n",
       "      <td>43.141296</td>\n",
       "    </tr>\n",
       "    <tr>\n",
       "      <th>1960-01-01</th>\n",
       "      <td>2559.150000</td>\n",
       "      <td>242.213704</td>\n",
       "      <td>6.694259</td>\n",
       "      <td>48.269259</td>\n",
       "    </tr>\n",
       "    <tr>\n",
       "      <th>1970-01-01</th>\n",
       "      <td>3588.387037</td>\n",
       "      <td>201.792593</td>\n",
       "      <td>6.699593</td>\n",
       "      <td>52.829259</td>\n",
       "    </tr>\n",
       "    <tr>\n",
       "      <th>1980-01-01</th>\n",
       "      <td>3648.101852</td>\n",
       "      <td>162.686852</td>\n",
       "      <td>6.340907</td>\n",
       "      <td>55.900000</td>\n",
       "    </tr>\n",
       "    <tr>\n",
       "      <th>1990-01-01</th>\n",
       "      <td>3723.772222</td>\n",
       "      <td>140.272593</td>\n",
       "      <td>5.610296</td>\n",
       "      <td>56.461000</td>\n",
       "    </tr>\n",
       "    <tr>\n",
       "      <th>2000-01-01</th>\n",
       "      <td>4717.694444</td>\n",
       "      <td>106.374630</td>\n",
       "      <td>4.969537</td>\n",
       "      <td>58.278519</td>\n",
       "    </tr>\n",
       "    <tr>\n",
       "      <th>2010-01-01</th>\n",
       "      <td>5436.257407</td>\n",
       "      <td>69.960926</td>\n",
       "      <td>4.402463</td>\n",
       "      <td>63.856481</td>\n",
       "    </tr>\n",
       "  </tbody>\n",
       "</table>\n",
       "</div>"
      ],
      "text/plain": [
       "                              income  child_mortality  child_fertility  \\\n",
       "four_regions year                                                        \n",
       "africa       1950-01-01  1836.009259       284.638889         6.488907   \n",
       "             1960-01-01  2559.150000       242.213704         6.694259   \n",
       "             1970-01-01  3588.387037       201.792593         6.699593   \n",
       "             1980-01-01  3648.101852       162.686852         6.340907   \n",
       "             1990-01-01  3723.772222       140.272593         5.610296   \n",
       "             2000-01-01  4717.694444       106.374630         4.969537   \n",
       "             2010-01-01  5436.257407        69.960926         4.402463   \n",
       "\n",
       "                         life_expectancy  \n",
       "four_regions year                         \n",
       "africa       1950-01-01        43.141296  \n",
       "             1960-01-01        48.269259  \n",
       "             1970-01-01        52.829259  \n",
       "             1980-01-01        55.900000  \n",
       "             1990-01-01        56.461000  \n",
       "             2000-01-01        58.278519  \n",
       "             2010-01-01        63.856481  "
      ]
     },
     "execution_count": 50,
     "metadata": {},
     "output_type": "execute_result"
    }
   ],
   "source": [
    "df_africa"
   ]
  },
  {
   "cell_type": "code",
   "execution_count": 51,
   "metadata": {},
   "outputs": [
    {
     "name": "stdout",
     "output_type": "stream",
     "text": [
      "<class 'pandas.core.frame.DataFrame'>\n",
      "MultiIndex: 7 entries, (africa, 1950-01-01 00:00:00) to (africa, 2010-01-01 00:00:00)\n",
      "Data columns (total 4 columns):\n",
      "income             7 non-null float64\n",
      "child_mortality    7 non-null float64\n",
      "child_fertility    7 non-null float64\n",
      "life_expectancy    7 non-null float64\n",
      "dtypes: float64(4)\n",
      "memory usage: 660.0+ bytes\n"
     ]
    }
   ],
   "source": [
    "df_africa.info()"
   ]
  },
  {
   "cell_type": "markdown",
   "metadata": {},
   "source": [
    "To answer this question, we first need to remove the first level of MulitIndex column for each region's dataframe, and change the datatype of *year* column to *int*, so we can plot by decade."
   ]
  },
  {
   "cell_type": "code",
   "execution_count": 52,
   "metadata": {},
   "outputs": [],
   "source": [
    "def reformat_region_dataframes(df):\n",
    "    df.index = df.index.droplevel(0)\n",
    "    df = df.reset_index()\n",
    "    df.year = df.year.dt.year\n",
    "    \n",
    "    return df\n",
    "\n",
    "df_africa = reformat_region_dataframes(df_africa)\n",
    "df_asia = reformat_region_dataframes(df_asia)\n",
    "df_americas = reformat_region_dataframes(df_americas)\n",
    "df_europe = reformat_region_dataframes(df_europe)"
   ]
  },
  {
   "cell_type": "code",
   "execution_count": 53,
   "metadata": {},
   "outputs": [
    {
     "name": "stdout",
     "output_type": "stream",
     "text": [
      "<class 'pandas.core.frame.DataFrame'>\n",
      "RangeIndex: 7 entries, 0 to 6\n",
      "Data columns (total 5 columns):\n",
      "year               7 non-null int64\n",
      "income             7 non-null float64\n",
      "child_mortality    7 non-null float64\n",
      "child_fertility    7 non-null float64\n",
      "life_expectancy    7 non-null float64\n",
      "dtypes: float64(4), int64(1)\n",
      "memory usage: 360.0 bytes\n"
     ]
    }
   ],
   "source": [
    "df_africa.info()"
   ]
  },
  {
   "cell_type": "code",
   "execution_count": 54,
   "metadata": {},
   "outputs": [
    {
     "name": "stdout",
     "output_type": "stream",
     "text": [
      "<class 'pandas.core.frame.DataFrame'>\n",
      "RangeIndex: 7 entries, 0 to 6\n",
      "Data columns (total 5 columns):\n",
      "year               7 non-null int64\n",
      "income             7 non-null float64\n",
      "child_mortality    7 non-null float64\n",
      "child_fertility    7 non-null float64\n",
      "life_expectancy    7 non-null float64\n",
      "dtypes: float64(4), int64(1)\n",
      "memory usage: 360.0 bytes\n"
     ]
    }
   ],
   "source": [
    "df_asia.info()"
   ]
  },
  {
   "cell_type": "code",
   "execution_count": 55,
   "metadata": {},
   "outputs": [
    {
     "name": "stdout",
     "output_type": "stream",
     "text": [
      "<class 'pandas.core.frame.DataFrame'>\n",
      "RangeIndex: 7 entries, 0 to 6\n",
      "Data columns (total 5 columns):\n",
      "year               7 non-null int64\n",
      "income             7 non-null float64\n",
      "child_mortality    7 non-null float64\n",
      "child_fertility    7 non-null float64\n",
      "life_expectancy    7 non-null float64\n",
      "dtypes: float64(4), int64(1)\n",
      "memory usage: 360.0 bytes\n"
     ]
    }
   ],
   "source": [
    "df_americas.info()"
   ]
  },
  {
   "cell_type": "code",
   "execution_count": 56,
   "metadata": {},
   "outputs": [
    {
     "name": "stdout",
     "output_type": "stream",
     "text": [
      "<class 'pandas.core.frame.DataFrame'>\n",
      "RangeIndex: 7 entries, 0 to 6\n",
      "Data columns (total 5 columns):\n",
      "year               7 non-null int64\n",
      "income             7 non-null float64\n",
      "child_mortality    7 non-null float64\n",
      "child_fertility    7 non-null float64\n",
      "life_expectancy    7 non-null float64\n",
      "dtypes: float64(4), int64(1)\n",
      "memory usage: 360.0 bytes\n"
     ]
    }
   ],
   "source": [
    "df_europe.info()"
   ]
  },
  {
   "cell_type": "code",
   "execution_count": 57,
   "metadata": {},
   "outputs": [
    {
     "data": {
      "text/html": [
       "<div>\n",
       "<style scoped>\n",
       "    .dataframe tbody tr th:only-of-type {\n",
       "        vertical-align: middle;\n",
       "    }\n",
       "\n",
       "    .dataframe tbody tr th {\n",
       "        vertical-align: top;\n",
       "    }\n",
       "\n",
       "    .dataframe thead th {\n",
       "        text-align: right;\n",
       "    }\n",
       "</style>\n",
       "<table border=\"1\" class=\"dataframe\">\n",
       "  <thead>\n",
       "    <tr style=\"text-align: right;\">\n",
       "      <th></th>\n",
       "      <th>year</th>\n",
       "      <th>income</th>\n",
       "      <th>child_mortality</th>\n",
       "      <th>child_fertility</th>\n",
       "      <th>life_expectancy</th>\n",
       "    </tr>\n",
       "  </thead>\n",
       "  <tbody>\n",
       "    <tr>\n",
       "      <th>0</th>\n",
       "      <td>1950</td>\n",
       "      <td>1836.009259</td>\n",
       "      <td>284.638889</td>\n",
       "      <td>6.488907</td>\n",
       "      <td>43.141296</td>\n",
       "    </tr>\n",
       "    <tr>\n",
       "      <th>1</th>\n",
       "      <td>1960</td>\n",
       "      <td>2559.150000</td>\n",
       "      <td>242.213704</td>\n",
       "      <td>6.694259</td>\n",
       "      <td>48.269259</td>\n",
       "    </tr>\n",
       "    <tr>\n",
       "      <th>2</th>\n",
       "      <td>1970</td>\n",
       "      <td>3588.387037</td>\n",
       "      <td>201.792593</td>\n",
       "      <td>6.699593</td>\n",
       "      <td>52.829259</td>\n",
       "    </tr>\n",
       "    <tr>\n",
       "      <th>3</th>\n",
       "      <td>1980</td>\n",
       "      <td>3648.101852</td>\n",
       "      <td>162.686852</td>\n",
       "      <td>6.340907</td>\n",
       "      <td>55.900000</td>\n",
       "    </tr>\n",
       "    <tr>\n",
       "      <th>4</th>\n",
       "      <td>1990</td>\n",
       "      <td>3723.772222</td>\n",
       "      <td>140.272593</td>\n",
       "      <td>5.610296</td>\n",
       "      <td>56.461000</td>\n",
       "    </tr>\n",
       "    <tr>\n",
       "      <th>5</th>\n",
       "      <td>2000</td>\n",
       "      <td>4717.694444</td>\n",
       "      <td>106.374630</td>\n",
       "      <td>4.969537</td>\n",
       "      <td>58.278519</td>\n",
       "    </tr>\n",
       "    <tr>\n",
       "      <th>6</th>\n",
       "      <td>2010</td>\n",
       "      <td>5436.257407</td>\n",
       "      <td>69.960926</td>\n",
       "      <td>4.402463</td>\n",
       "      <td>63.856481</td>\n",
       "    </tr>\n",
       "  </tbody>\n",
       "</table>\n",
       "</div>"
      ],
      "text/plain": [
       "   year       income  child_mortality  child_fertility  life_expectancy\n",
       "0  1950  1836.009259       284.638889         6.488907        43.141296\n",
       "1  1960  2559.150000       242.213704         6.694259        48.269259\n",
       "2  1970  3588.387037       201.792593         6.699593        52.829259\n",
       "3  1980  3648.101852       162.686852         6.340907        55.900000\n",
       "4  1990  3723.772222       140.272593         5.610296        56.461000\n",
       "5  2000  4717.694444       106.374630         4.969537        58.278519\n",
       "6  2010  5436.257407        69.960926         4.402463        63.856481"
      ]
     },
     "execution_count": 57,
     "metadata": {},
     "output_type": "execute_result"
    }
   ],
   "source": [
    "df_africa"
   ]
  },
  {
   "cell_type": "code",
   "execution_count": 58,
   "metadata": {},
   "outputs": [
    {
     "data": {
      "text/html": [
       "<div>\n",
       "<style scoped>\n",
       "    .dataframe tbody tr th:only-of-type {\n",
       "        vertical-align: middle;\n",
       "    }\n",
       "\n",
       "    .dataframe tbody tr th {\n",
       "        vertical-align: top;\n",
       "    }\n",
       "\n",
       "    .dataframe thead th {\n",
       "        text-align: right;\n",
       "    }\n",
       "</style>\n",
       "<table border=\"1\" class=\"dataframe\">\n",
       "  <thead>\n",
       "    <tr style=\"text-align: right;\">\n",
       "      <th></th>\n",
       "      <th>year</th>\n",
       "      <th>income</th>\n",
       "      <th>child_mortality</th>\n",
       "      <th>child_fertility</th>\n",
       "      <th>life_expectancy</th>\n",
       "    </tr>\n",
       "  </thead>\n",
       "  <tbody>\n",
       "    <tr>\n",
       "      <th>0</th>\n",
       "      <td>1950</td>\n",
       "      <td>5121.047170</td>\n",
       "      <td>214.138679</td>\n",
       "      <td>6.207264</td>\n",
       "      <td>49.354717</td>\n",
       "    </tr>\n",
       "    <tr>\n",
       "      <th>1</th>\n",
       "      <td>1960</td>\n",
       "      <td>8658.505660</td>\n",
       "      <td>158.989434</td>\n",
       "      <td>6.197057</td>\n",
       "      <td>55.526604</td>\n",
       "    </tr>\n",
       "    <tr>\n",
       "      <th>2</th>\n",
       "      <td>1970</td>\n",
       "      <td>16535.709434</td>\n",
       "      <td>114.783962</td>\n",
       "      <td>5.598075</td>\n",
       "      <td>60.487170</td>\n",
       "    </tr>\n",
       "    <tr>\n",
       "      <th>3</th>\n",
       "      <td>1980</td>\n",
       "      <td>15079.694340</td>\n",
       "      <td>78.408000</td>\n",
       "      <td>4.838226</td>\n",
       "      <td>64.471132</td>\n",
       "    </tr>\n",
       "    <tr>\n",
       "      <th>4</th>\n",
       "      <td>1990</td>\n",
       "      <td>15069.139623</td>\n",
       "      <td>55.615208</td>\n",
       "      <td>3.869717</td>\n",
       "      <td>67.500000</td>\n",
       "    </tr>\n",
       "    <tr>\n",
       "      <th>5</th>\n",
       "      <td>2000</td>\n",
       "      <td>17694.288679</td>\n",
       "      <td>37.419849</td>\n",
       "      <td>3.076906</td>\n",
       "      <td>70.140755</td>\n",
       "    </tr>\n",
       "    <tr>\n",
       "      <th>6</th>\n",
       "      <td>2010</td>\n",
       "      <td>19435.924528</td>\n",
       "      <td>25.220132</td>\n",
       "      <td>2.701283</td>\n",
       "      <td>72.945472</td>\n",
       "    </tr>\n",
       "  </tbody>\n",
       "</table>\n",
       "</div>"
      ],
      "text/plain": [
       "   year        income  child_mortality  child_fertility  life_expectancy\n",
       "0  1950   5121.047170       214.138679         6.207264        49.354717\n",
       "1  1960   8658.505660       158.989434         6.197057        55.526604\n",
       "2  1970  16535.709434       114.783962         5.598075        60.487170\n",
       "3  1980  15079.694340        78.408000         4.838226        64.471132\n",
       "4  1990  15069.139623        55.615208         3.869717        67.500000\n",
       "5  2000  17694.288679        37.419849         3.076906        70.140755\n",
       "6  2010  19435.924528        25.220132         2.701283        72.945472"
      ]
     },
     "execution_count": 58,
     "metadata": {},
     "output_type": "execute_result"
    }
   ],
   "source": [
    "df_asia"
   ]
  },
  {
   "cell_type": "code",
   "execution_count": 59,
   "metadata": {},
   "outputs": [
    {
     "data": {
      "text/html": [
       "<div>\n",
       "<style scoped>\n",
       "    .dataframe tbody tr th:only-of-type {\n",
       "        vertical-align: middle;\n",
       "    }\n",
       "\n",
       "    .dataframe tbody tr th {\n",
       "        vertical-align: top;\n",
       "    }\n",
       "\n",
       "    .dataframe thead th {\n",
       "        text-align: right;\n",
       "    }\n",
       "</style>\n",
       "<table border=\"1\" class=\"dataframe\">\n",
       "  <thead>\n",
       "    <tr style=\"text-align: right;\">\n",
       "      <th></th>\n",
       "      <th>year</th>\n",
       "      <th>income</th>\n",
       "      <th>child_mortality</th>\n",
       "      <th>child_fertility</th>\n",
       "      <th>life_expectancy</th>\n",
       "    </tr>\n",
       "  </thead>\n",
       "  <tbody>\n",
       "    <tr>\n",
       "      <th>0</th>\n",
       "      <td>1950</td>\n",
       "      <td>5062.727273</td>\n",
       "      <td>149.842727</td>\n",
       "      <td>5.811697</td>\n",
       "      <td>56.088788</td>\n",
       "    </tr>\n",
       "    <tr>\n",
       "      <th>1</th>\n",
       "      <td>1960</td>\n",
       "      <td>6489.181818</td>\n",
       "      <td>111.224848</td>\n",
       "      <td>5.630061</td>\n",
       "      <td>61.224848</td>\n",
       "    </tr>\n",
       "    <tr>\n",
       "      <th>2</th>\n",
       "      <td>1970</td>\n",
       "      <td>8356.090909</td>\n",
       "      <td>82.143636</td>\n",
       "      <td>4.606212</td>\n",
       "      <td>65.710303</td>\n",
       "    </tr>\n",
       "    <tr>\n",
       "      <th>3</th>\n",
       "      <td>1980</td>\n",
       "      <td>9610.787879</td>\n",
       "      <td>54.745697</td>\n",
       "      <td>3.723485</td>\n",
       "      <td>69.277879</td>\n",
       "    </tr>\n",
       "    <tr>\n",
       "      <th>4</th>\n",
       "      <td>1990</td>\n",
       "      <td>10858.454545</td>\n",
       "      <td>36.579485</td>\n",
       "      <td>3.066212</td>\n",
       "      <td>71.623333</td>\n",
       "    </tr>\n",
       "    <tr>\n",
       "      <th>5</th>\n",
       "      <td>2000</td>\n",
       "      <td>13176.727273</td>\n",
       "      <td>24.877727</td>\n",
       "      <td>2.514909</td>\n",
       "      <td>73.873030</td>\n",
       "    </tr>\n",
       "    <tr>\n",
       "      <th>6</th>\n",
       "      <td>2010</td>\n",
       "      <td>15308.818182</td>\n",
       "      <td>18.757364</td>\n",
       "      <td>2.196758</td>\n",
       "      <td>75.260303</td>\n",
       "    </tr>\n",
       "  </tbody>\n",
       "</table>\n",
       "</div>"
      ],
      "text/plain": [
       "   year        income  child_mortality  child_fertility  life_expectancy\n",
       "0  1950   5062.727273       149.842727         5.811697        56.088788\n",
       "1  1960   6489.181818       111.224848         5.630061        61.224848\n",
       "2  1970   8356.090909        82.143636         4.606212        65.710303\n",
       "3  1980   9610.787879        54.745697         3.723485        69.277879\n",
       "4  1990  10858.454545        36.579485         3.066212        71.623333\n",
       "5  2000  13176.727273        24.877727         2.514909        73.873030\n",
       "6  2010  15308.818182        18.757364         2.196758        75.260303"
      ]
     },
     "execution_count": 59,
     "metadata": {},
     "output_type": "execute_result"
    }
   ],
   "source": [
    "df_americas"
   ]
  },
  {
   "cell_type": "code",
   "execution_count": 60,
   "metadata": {},
   "outputs": [
    {
     "data": {
      "text/html": [
       "<div>\n",
       "<style scoped>\n",
       "    .dataframe tbody tr th:only-of-type {\n",
       "        vertical-align: middle;\n",
       "    }\n",
       "\n",
       "    .dataframe tbody tr th {\n",
       "        vertical-align: top;\n",
       "    }\n",
       "\n",
       "    .dataframe thead th {\n",
       "        text-align: right;\n",
       "    }\n",
       "</style>\n",
       "<table border=\"1\" class=\"dataframe\">\n",
       "  <thead>\n",
       "    <tr style=\"text-align: right;\">\n",
       "      <th></th>\n",
       "      <th>year</th>\n",
       "      <th>income</th>\n",
       "      <th>child_mortality</th>\n",
       "      <th>child_fertility</th>\n",
       "      <th>life_expectancy</th>\n",
       "    </tr>\n",
       "  </thead>\n",
       "  <tbody>\n",
       "    <tr>\n",
       "      <th>0</th>\n",
       "      <td>1950</td>\n",
       "      <td>7001.340909</td>\n",
       "      <td>86.825682</td>\n",
       "      <td>3.141250</td>\n",
       "      <td>64.765000</td>\n",
       "    </tr>\n",
       "    <tr>\n",
       "      <th>1</th>\n",
       "      <td>1960</td>\n",
       "      <td>10304.431818</td>\n",
       "      <td>53.676136</td>\n",
       "      <td>2.881659</td>\n",
       "      <td>68.716364</td>\n",
       "    </tr>\n",
       "    <tr>\n",
       "      <th>2</th>\n",
       "      <td>1970</td>\n",
       "      <td>14987.818182</td>\n",
       "      <td>36.559023</td>\n",
       "      <td>2.387341</td>\n",
       "      <td>70.670227</td>\n",
       "    </tr>\n",
       "    <tr>\n",
       "      <th>3</th>\n",
       "      <td>1980</td>\n",
       "      <td>18744.181818</td>\n",
       "      <td>24.623364</td>\n",
       "      <td>2.056955</td>\n",
       "      <td>72.525000</td>\n",
       "    </tr>\n",
       "    <tr>\n",
       "      <th>4</th>\n",
       "      <td>1990</td>\n",
       "      <td>20321.568182</td>\n",
       "      <td>16.946705</td>\n",
       "      <td>1.731705</td>\n",
       "      <td>73.653182</td>\n",
       "    </tr>\n",
       "    <tr>\n",
       "      <th>5</th>\n",
       "      <td>2000</td>\n",
       "      <td>26481.886364</td>\n",
       "      <td>10.292932</td>\n",
       "      <td>1.549659</td>\n",
       "      <td>75.875682</td>\n",
       "    </tr>\n",
       "    <tr>\n",
       "      <th>6</th>\n",
       "      <td>2010</td>\n",
       "      <td>30406.340909</td>\n",
       "      <td>6.308841</td>\n",
       "      <td>1.619364</td>\n",
       "      <td>78.204318</td>\n",
       "    </tr>\n",
       "  </tbody>\n",
       "</table>\n",
       "</div>"
      ],
      "text/plain": [
       "   year        income  child_mortality  child_fertility  life_expectancy\n",
       "0  1950   7001.340909        86.825682         3.141250        64.765000\n",
       "1  1960  10304.431818        53.676136         2.881659        68.716364\n",
       "2  1970  14987.818182        36.559023         2.387341        70.670227\n",
       "3  1980  18744.181818        24.623364         2.056955        72.525000\n",
       "4  1990  20321.568182        16.946705         1.731705        73.653182\n",
       "5  2000  26481.886364        10.292932         1.549659        75.875682\n",
       "6  2010  30406.340909         6.308841         1.619364        78.204318"
      ]
     },
     "execution_count": 60,
     "metadata": {},
     "output_type": "execute_result"
    }
   ],
   "source": [
    "df_europe"
   ]
  },
  {
   "cell_type": "markdown",
   "metadata": {},
   "source": [
    "We then scatter plot by decades for each indicator and for each individual region."
   ]
  },
  {
   "cell_type": "code",
   "execution_count": 61,
   "metadata": {},
   "outputs": [],
   "source": [
    "# pack regions dataframes in a list to be used to plot figures\n",
    "df_list = [df_africa, df_asia, df_americas, df_europe]"
   ]
  },
  {
   "cell_type": "code",
   "execution_count": 62,
   "metadata": {},
   "outputs": [
    {
     "data": {
      "image/png": "[encoded data removed]",
      "text/plain": [
       "<matplotlib.figure.Figure at 0x7f623a0a8b38>"
      ]
     },
     "metadata": {},
     "output_type": "display_data"
    }
   ],
   "source": [
    "plot_scatter_for_four_regions(df_list, 'year', 'life_expectancy', region_legend, 'Life expectancy with respect to decades and for each region')"
   ]
  },
  {
   "cell_type": "markdown",
   "metadata": {},
   "source": [
    "From the above figure, Asia is the most growing region with respect to the *Life expectancy* factor. However, Europe stayed in the first place, and Americas comes next, followed by Asia. Africa also has improved but stayed far away from other regions."
   ]
  },
  {
   "cell_type": "code",
   "execution_count": 63,
   "metadata": {},
   "outputs": [
    {
     "data": {
      "image/png": "[encoded data removed]",
      "text/plain": [
       "<matplotlib.figure.Figure at 0x7f6239e97be0>"
      ]
     },
     "metadata": {},
     "output_type": "display_data"
    }
   ],
   "source": [
    "plot_scatter_for_four_regions(df_list, 'year', 'income', region_legend, 'Income with respect to decades and for each region')"
   ]
  },
  {
   "cell_type": "markdown",
   "metadata": {},
   "source": [
    "In terms of the *Income* factor, Europe is growing the most, followed by Asia and Americas. But Aferica is improving a little bit."
   ]
  },
  {
   "cell_type": "code",
   "execution_count": 64,
   "metadata": {},
   "outputs": [
    {
     "data": {
      "image/png": "[encoded data removed]",
      "text/plain": [
       "<matplotlib.figure.Figure at 0x7f6239fa0278>"
      ]
     },
     "metadata": {},
     "output_type": "display_data"
    }
   ],
   "source": [
    "plot_scatter_for_four_regions(df_list, 'year', 'child_mortality', region_legend, 'Child mortality with respect to decades and for each region')"
   ]
  },
  {
   "cell_type": "markdown",
   "metadata": {},
   "source": [
    "With much advancements in science, technology, and health systems, all regions have decreased *Child* mortality rate almost constantly. However, Europe is still in the first place, followed by Americas, then Asia, and Africa comes in the last place."
   ]
  },
  {
   "cell_type": "code",
   "execution_count": 65,
   "metadata": {},
   "outputs": [
    {
     "data": {
      "image/png": "[encoded data removed]",
      "text/plain": [
       "<matplotlib.figure.Figure at 0x7f6239e5b978>"
      ]
     },
     "metadata": {},
     "output_type": "display_data"
    }
   ],
   "source": [
    "plot_scatter_for_four_regions(df_list, 'year', 'child_fertility', region_legend, 'Child fertility with respect to decades and for each region')"
   ]
  },
  {
   "cell_type": "markdown",
   "metadata": {},
   "source": [
    "Having many children for each family is a good thing. However, this means that the income per individual will decrease, leading to a decrease in life conditions, which means less education opportunties and low quality health insurance. As a result, the child mortality rate will increase, followed by a decrease in life expectancy rate too.\n",
    "\n",
    "From the above figure, Europe has the lowest *Child fertility* rate, followed again by Americas and Asia. Africa still has the highest *Child fertility* rate."
   ]
  },
  {
   "cell_type": "markdown",
   "metadata": {},
   "source": [
    "### 3D Plotting\n",
    "\n",
    "Finally, we can clearly see our findings for the two questions above through **3D** plots that show the correlation between *Life expectancy* and each of the other three independent variables."
   ]
  },
  {
   "cell_type": "code",
   "execution_count": 66,
   "metadata": {},
   "outputs": [
    {
     "data": {
      "image/png": "[encoded data removed]",
      "text/plain": [
       "<matplotlib.figure.Figure at 0x7f623a00a048>"
      ]
     },
     "metadata": {},
     "output_type": "display_data"
    },
    {
     "data": {
      "image/png": "[encoded data removed]",
      "text/plain": [
       "<matplotlib.figure.Figure at 0x7f623a00a668>"
      ]
     },
     "metadata": {},
     "output_type": "display_data"
    },
    {
     "data": {
      "image/png": "[encoded data removed]",
      "text/plain": [
       "<matplotlib.figure.Figure at 0x7f6239f46518>"
      ]
     },
     "metadata": {},
     "output_type": "display_data"
    }
   ],
   "source": [
    "def plot_3d(axes_plot, x, y, z, label):\n",
    "    axes_plot.plot3D(x, y, z, label=label, marker='o');\n",
    "    \n",
    "def plot_3d_for_four_regions(dataframes, x_label, y_label, z_label, plot_legend, plot_title):\n",
    "    sns.set_style(\"whitegrid\")\n",
    "    fig = plt.figure(figsize=(7,7))\n",
    "    ax = plt.axes(projection ='3d')\n",
    "    \n",
    "    for i, df in enumerate(dataframes):\n",
    "        x = df[x_label]\n",
    "        y = df[y_label]\n",
    "        z = df[z_label]\n",
    "        label = plot_legend[i]\n",
    "        plot_3d(axes_plot=ax, x=x, y=y, z=z, label=label)\n",
    "    \n",
    "    ax.set_xlabel(x_label)\n",
    "    ax.set_ylabel(y_label)\n",
    "    ax.set_zlabel(z_label)\n",
    "    ax.set_title(plot_title) \n",
    "    plt.rcParams['legend.fontsize'] = 12\n",
    "    ax.legend(loc='upper right', bbox_to_anchor=(1.15, 0.2))\n",
    "    plt.show()\n",
    "    \n",
    "plot_3d_for_four_regions(df_list, 'year', 'income', 'life_expectancy', region_legend, '3D plot shows the correlation beween Income and Life Expectancy indicators with respect to decades')\n",
    "plot_3d_for_four_regions(df_list, 'child_mortality', 'year', 'life_expectancy', region_legend, '3D plot shows the correlation beween Child Mortality and Life Expectancy indicators with respect to decades')\n",
    "plot_3d_for_four_regions(df_list, 'child_fertility', 'year', 'life_expectancy', region_legend, '3D plot shows the correlation beween Child Fertility and Life Expectancy indicators with respect to decades')"
   ]
  },
  {
   "cell_type": "markdown",
   "metadata": {},
   "source": [
    "<a id='conclusions'></a>\n",
    "## Conclusions\n",
    "\n",
    "We aimed in this project to study the effect of the factors (*Income*, *Child mortality*, *Child fertility*) on the *Life* expectancy in general and according to individual regions. We also aimed to find which regions are improving the most with repect to these factors.\n",
    "\n",
    "We have answered both research questions posed at the end of the *introduction* section by conducting an intensive EDA. We used both statistics and visualization tehniques to show our findings.\n",
    "\n",
    "In summary, we have found that the life expectancy rate increases when there is an increase in the income. It also increases when there are decreases in both child mortality and fertility rates.\n",
    "\n",
    "Europe has kept the best life expectancy and income rates through the time. Asia and Americas are immediately following Europe and almost have catched up with it in life expectancy rates. But Africa has the worst ones. The child mortality and fertility rates have increased much for Asia and Americas. Europe still has the least ones, whereas Africa has the higher ones.\n",
    "\n",
    "### Limitaion\n",
    "\n",
    "We will address here some of the limitations and challenges that we faced while doing this study.\n",
    "\n",
    "<ul>\n",
    "<li>It was a challenging task to pick only a few indicators from the tens or even hundres of different indicators that are grouped into different categories too, like education, health, ets. But at the end, we have selected six indicators that they seem to be related to each other. However, we ended with only four indicators, as we find from the initial analysis that the other two indicators (Popluation total and Population density) are not useful in this work.</li>\n",
    "<li>Another limitation was related to the availablity of data for all picked indicators. We had to consider only data from 1950. Although most countries have statistics go back to 1800, some countries have complete statistics for some indicators for some years but do not have complete statistics for some other years.</li>\n",
    "<li>We had to drop some countires from this study because they do not have complete statistics for the period of the study.</li>\n",
    "<li>We choose to study the impact of some indicators on the life expectancy of people of the main four continents. We covered a period of seventy years. However, we faced a problem related to how to plot data for seventy years and for each region. This needs huge figures that cannot be shown clearly on the screen. To overcome this issue, we aggregated data for every ten years and for each region. Thus, our results may not reflect the real data</li>\n",
    "<li>We choose to conduct the study for the main continents: Africa, Asia, Americas and Europe. However, some sub-regions within each continent are much better than others with most indicators. For example, if we represent each of North America and South America separately, we might get different results. In the future, we plan to conduct this study based on eight regions instead of four, and sure we might get different results. </li>\n",
    "</ul>\n"
   ]
  },
  {
   "cell_type": "markdown",
   "metadata": {},
   "source": [
    "<a id='references'></a>\n",
    "## References\n",
    "\n",
    "<ul>\n",
    "    <li><a href=\"https://pandas.pydata.org/pandas-docs/stable/user_guide/reshaping.html\">Pandas reshaping</a></li>\n",
    "    <li><a href=\"https://jamesrledoux.com/code/group-by-aggregate-pandas\">Pandas groupby and aggregate for time series</a></li>\n",
    "    <li><a href=\"https://stackoverflow.com/questions/44627970/drop-multiindex-level-but-keep-names-of-columns-pandas\">Pandas drop MultiIndex levels</a></li>\n",
    "    <li><a href=\"https://www.geeksforgeeks.org/three-dimensional-plotting-in-python-using-matplotlib/\">3D plotting using matplotlib</a></li>\n",
    "    <li><a href=\"https://pythonprogramming.net/3d-graphing-pandas-matplotlib/\">3D plotting using matplotlib</a></li>\n",
    "</ul>"
   ]
  },
  {
   "cell_type": "code",
   "execution_count": 67,
   "metadata": {},
   "outputs": [
    {
     "data": {
      "text/plain": [
       "0"
      ]
     },
     "execution_count": 67,
     "metadata": {},
     "output_type": "execute_result"
    }
   ],
   "source": [
    "from subprocess import call\n",
    "call(['python', '-m', 'nbconvert', 'Investigate_a_Dataset.ipynb'])"
   ]
  }
 ],
 "metadata": {
  "kernelspec": {
   "display_name": "Python 3",
   "language": "python",
   "name": "python3"
  },
  "language_info": {
   "codemirror_mode": {
    "name": "ipython",
    "version": 3
   },
   "file_extension": ".py",
   "mimetype": "text/x-python",
   "name": "python",
   "nbconvert_exporter": "python",
   "pygments_lexer": "ipython3",
   "version": "3.6.3"
  }
 },
 "nbformat": 4,
 "nbformat_minor": 2
}
